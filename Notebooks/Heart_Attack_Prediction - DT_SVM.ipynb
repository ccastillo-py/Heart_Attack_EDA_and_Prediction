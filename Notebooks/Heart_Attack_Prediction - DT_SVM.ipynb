{
 "cells": [
  {
   "cell_type": "markdown",
   "id": "bb9bacf1",
   "metadata": {},
   "source": [
    "# Cargando los datos"
   ]
  },
  {
   "cell_type": "markdown",
   "id": "0aa64e63",
   "metadata": {},
   "source": [
    "El primer paso consistirá en cargar las librerías necesarias (pandas, seaborn, matplotlib y scikit-learn)."
   ]
  },
  {
   "cell_type": "code",
   "execution_count": 88,
   "id": "9c12c672",
   "metadata": {},
   "outputs": [],
   "source": [
    "import pandas as pd\n",
    "import seaborn as sns\n",
    "import numpy as np\n",
    "import matplotlib.pyplot as plt\n",
    "from sklearn.model_selection import train_test_split\n",
    "from sklearn.tree import DecisionTreeClassifier\n",
    "from sklearn.svm import SVC\n",
    "from sklearn.metrics import classification_report\n",
    "from sklearn.metrics import confusion_matrix\n",
    "from sklearn.metrics import accuracy_score\n",
    "from sklearn.model_selection import GridSearchCV"
   ]
  },
  {
   "cell_type": "markdown",
   "id": "119f2e6d",
   "metadata": {},
   "source": [
    "Seguidamente, se procederá a cargar los datos a través del método de pandas \"read_csv\", renombrando la cabecera para hacerla más intuitiva."
   ]
  },
  {
   "cell_type": "code",
   "execution_count": 2,
   "id": "2512aa34",
   "metadata": {},
   "outputs": [],
   "source": [
    "labels = [\n",
    "    'edad',\n",
    "    'sexo',\n",
    "    'dolor_pecho',\n",
    "    'presion_arterial_reposo',\n",
    "    'colesterol',\n",
    "    'azúcar_ayunas',\n",
    "    'electro_reposo',\n",
    "    'frecuencia_máxima',\n",
    "    'angina_por_ejercicio',\n",
    "    'depresión_ST_por_ejercicio',\n",
    "    'pendiente_ST_max_ejercicio',\n",
    "    'número_vasos',\n",
    "    'talio',\n",
    "    'resultado'\n",
    "]"
   ]
  },
  {
   "cell_type": "code",
   "execution_count": 3,
   "id": "9b5c8cb0",
   "metadata": {},
   "outputs": [],
   "source": [
    "df = pd.read_csv('heart.csv', header=0, names = labels)"
   ]
  },
  {
   "cell_type": "code",
   "execution_count": 4,
   "id": "7f24cd06",
   "metadata": {},
   "outputs": [
    {
     "data": {
      "text/html": [
       "<div>\n",
       "<style scoped>\n",
       "    .dataframe tbody tr th:only-of-type {\n",
       "        vertical-align: middle;\n",
       "    }\n",
       "\n",
       "    .dataframe tbody tr th {\n",
       "        vertical-align: top;\n",
       "    }\n",
       "\n",
       "    .dataframe thead th {\n",
       "        text-align: right;\n",
       "    }\n",
       "</style>\n",
       "<table border=\"1\" class=\"dataframe\">\n",
       "  <thead>\n",
       "    <tr style=\"text-align: right;\">\n",
       "      <th></th>\n",
       "      <th>edad</th>\n",
       "      <th>sexo</th>\n",
       "      <th>dolor_pecho</th>\n",
       "      <th>presion_arterial_reposo</th>\n",
       "      <th>colesterol</th>\n",
       "      <th>azúcar_ayunas</th>\n",
       "      <th>electro_reposo</th>\n",
       "      <th>frecuencia_máxima</th>\n",
       "      <th>angina_por_ejercicio</th>\n",
       "      <th>depresión_ST_por_ejercicio</th>\n",
       "      <th>pendiente_ST_max_ejercicio</th>\n",
       "      <th>número_vasos</th>\n",
       "      <th>talio</th>\n",
       "      <th>resultado</th>\n",
       "    </tr>\n",
       "  </thead>\n",
       "  <tbody>\n",
       "    <tr>\n",
       "      <th>0</th>\n",
       "      <td>63</td>\n",
       "      <td>1</td>\n",
       "      <td>3</td>\n",
       "      <td>145</td>\n",
       "      <td>233</td>\n",
       "      <td>1</td>\n",
       "      <td>0</td>\n",
       "      <td>150</td>\n",
       "      <td>0</td>\n",
       "      <td>2.3</td>\n",
       "      <td>0</td>\n",
       "      <td>0</td>\n",
       "      <td>1</td>\n",
       "      <td>1</td>\n",
       "    </tr>\n",
       "    <tr>\n",
       "      <th>1</th>\n",
       "      <td>37</td>\n",
       "      <td>1</td>\n",
       "      <td>2</td>\n",
       "      <td>130</td>\n",
       "      <td>250</td>\n",
       "      <td>0</td>\n",
       "      <td>1</td>\n",
       "      <td>187</td>\n",
       "      <td>0</td>\n",
       "      <td>3.5</td>\n",
       "      <td>0</td>\n",
       "      <td>0</td>\n",
       "      <td>2</td>\n",
       "      <td>1</td>\n",
       "    </tr>\n",
       "    <tr>\n",
       "      <th>2</th>\n",
       "      <td>41</td>\n",
       "      <td>0</td>\n",
       "      <td>1</td>\n",
       "      <td>130</td>\n",
       "      <td>204</td>\n",
       "      <td>0</td>\n",
       "      <td>0</td>\n",
       "      <td>172</td>\n",
       "      <td>0</td>\n",
       "      <td>1.4</td>\n",
       "      <td>2</td>\n",
       "      <td>0</td>\n",
       "      <td>2</td>\n",
       "      <td>1</td>\n",
       "    </tr>\n",
       "    <tr>\n",
       "      <th>3</th>\n",
       "      <td>56</td>\n",
       "      <td>1</td>\n",
       "      <td>1</td>\n",
       "      <td>120</td>\n",
       "      <td>236</td>\n",
       "      <td>0</td>\n",
       "      <td>1</td>\n",
       "      <td>178</td>\n",
       "      <td>0</td>\n",
       "      <td>0.8</td>\n",
       "      <td>2</td>\n",
       "      <td>0</td>\n",
       "      <td>2</td>\n",
       "      <td>1</td>\n",
       "    </tr>\n",
       "    <tr>\n",
       "      <th>4</th>\n",
       "      <td>57</td>\n",
       "      <td>0</td>\n",
       "      <td>0</td>\n",
       "      <td>120</td>\n",
       "      <td>354</td>\n",
       "      <td>0</td>\n",
       "      <td>1</td>\n",
       "      <td>163</td>\n",
       "      <td>1</td>\n",
       "      <td>0.6</td>\n",
       "      <td>2</td>\n",
       "      <td>0</td>\n",
       "      <td>2</td>\n",
       "      <td>1</td>\n",
       "    </tr>\n",
       "    <tr>\n",
       "      <th>5</th>\n",
       "      <td>57</td>\n",
       "      <td>1</td>\n",
       "      <td>0</td>\n",
       "      <td>140</td>\n",
       "      <td>192</td>\n",
       "      <td>0</td>\n",
       "      <td>1</td>\n",
       "      <td>148</td>\n",
       "      <td>0</td>\n",
       "      <td>0.4</td>\n",
       "      <td>1</td>\n",
       "      <td>0</td>\n",
       "      <td>1</td>\n",
       "      <td>1</td>\n",
       "    </tr>\n",
       "    <tr>\n",
       "      <th>6</th>\n",
       "      <td>56</td>\n",
       "      <td>0</td>\n",
       "      <td>1</td>\n",
       "      <td>140</td>\n",
       "      <td>294</td>\n",
       "      <td>0</td>\n",
       "      <td>0</td>\n",
       "      <td>153</td>\n",
       "      <td>0</td>\n",
       "      <td>1.3</td>\n",
       "      <td>1</td>\n",
       "      <td>0</td>\n",
       "      <td>2</td>\n",
       "      <td>1</td>\n",
       "    </tr>\n",
       "    <tr>\n",
       "      <th>7</th>\n",
       "      <td>44</td>\n",
       "      <td>1</td>\n",
       "      <td>1</td>\n",
       "      <td>120</td>\n",
       "      <td>263</td>\n",
       "      <td>0</td>\n",
       "      <td>1</td>\n",
       "      <td>173</td>\n",
       "      <td>0</td>\n",
       "      <td>0.0</td>\n",
       "      <td>2</td>\n",
       "      <td>0</td>\n",
       "      <td>3</td>\n",
       "      <td>1</td>\n",
       "    </tr>\n",
       "    <tr>\n",
       "      <th>8</th>\n",
       "      <td>52</td>\n",
       "      <td>1</td>\n",
       "      <td>2</td>\n",
       "      <td>172</td>\n",
       "      <td>199</td>\n",
       "      <td>1</td>\n",
       "      <td>1</td>\n",
       "      <td>162</td>\n",
       "      <td>0</td>\n",
       "      <td>0.5</td>\n",
       "      <td>2</td>\n",
       "      <td>0</td>\n",
       "      <td>3</td>\n",
       "      <td>1</td>\n",
       "    </tr>\n",
       "    <tr>\n",
       "      <th>9</th>\n",
       "      <td>57</td>\n",
       "      <td>1</td>\n",
       "      <td>2</td>\n",
       "      <td>150</td>\n",
       "      <td>168</td>\n",
       "      <td>0</td>\n",
       "      <td>1</td>\n",
       "      <td>174</td>\n",
       "      <td>0</td>\n",
       "      <td>1.6</td>\n",
       "      <td>2</td>\n",
       "      <td>0</td>\n",
       "      <td>2</td>\n",
       "      <td>1</td>\n",
       "    </tr>\n",
       "    <tr>\n",
       "      <th>10</th>\n",
       "      <td>54</td>\n",
       "      <td>1</td>\n",
       "      <td>0</td>\n",
       "      <td>140</td>\n",
       "      <td>239</td>\n",
       "      <td>0</td>\n",
       "      <td>1</td>\n",
       "      <td>160</td>\n",
       "      <td>0</td>\n",
       "      <td>1.2</td>\n",
       "      <td>2</td>\n",
       "      <td>0</td>\n",
       "      <td>2</td>\n",
       "      <td>1</td>\n",
       "    </tr>\n",
       "    <tr>\n",
       "      <th>11</th>\n",
       "      <td>48</td>\n",
       "      <td>0</td>\n",
       "      <td>2</td>\n",
       "      <td>130</td>\n",
       "      <td>275</td>\n",
       "      <td>0</td>\n",
       "      <td>1</td>\n",
       "      <td>139</td>\n",
       "      <td>0</td>\n",
       "      <td>0.2</td>\n",
       "      <td>2</td>\n",
       "      <td>0</td>\n",
       "      <td>2</td>\n",
       "      <td>1</td>\n",
       "    </tr>\n",
       "    <tr>\n",
       "      <th>12</th>\n",
       "      <td>49</td>\n",
       "      <td>1</td>\n",
       "      <td>1</td>\n",
       "      <td>130</td>\n",
       "      <td>266</td>\n",
       "      <td>0</td>\n",
       "      <td>1</td>\n",
       "      <td>171</td>\n",
       "      <td>0</td>\n",
       "      <td>0.6</td>\n",
       "      <td>2</td>\n",
       "      <td>0</td>\n",
       "      <td>2</td>\n",
       "      <td>1</td>\n",
       "    </tr>\n",
       "    <tr>\n",
       "      <th>13</th>\n",
       "      <td>64</td>\n",
       "      <td>1</td>\n",
       "      <td>3</td>\n",
       "      <td>110</td>\n",
       "      <td>211</td>\n",
       "      <td>0</td>\n",
       "      <td>0</td>\n",
       "      <td>144</td>\n",
       "      <td>1</td>\n",
       "      <td>1.8</td>\n",
       "      <td>1</td>\n",
       "      <td>0</td>\n",
       "      <td>2</td>\n",
       "      <td>1</td>\n",
       "    </tr>\n",
       "    <tr>\n",
       "      <th>14</th>\n",
       "      <td>58</td>\n",
       "      <td>0</td>\n",
       "      <td>3</td>\n",
       "      <td>150</td>\n",
       "      <td>283</td>\n",
       "      <td>1</td>\n",
       "      <td>0</td>\n",
       "      <td>162</td>\n",
       "      <td>0</td>\n",
       "      <td>1.0</td>\n",
       "      <td>2</td>\n",
       "      <td>0</td>\n",
       "      <td>2</td>\n",
       "      <td>1</td>\n",
       "    </tr>\n",
       "  </tbody>\n",
       "</table>\n",
       "</div>"
      ],
      "text/plain": [
       "    edad  sexo  dolor_pecho  presion_arterial_reposo  colesterol  \\\n",
       "0     63     1            3                      145         233   \n",
       "1     37     1            2                      130         250   \n",
       "2     41     0            1                      130         204   \n",
       "3     56     1            1                      120         236   \n",
       "4     57     0            0                      120         354   \n",
       "5     57     1            0                      140         192   \n",
       "6     56     0            1                      140         294   \n",
       "7     44     1            1                      120         263   \n",
       "8     52     1            2                      172         199   \n",
       "9     57     1            2                      150         168   \n",
       "10    54     1            0                      140         239   \n",
       "11    48     0            2                      130         275   \n",
       "12    49     1            1                      130         266   \n",
       "13    64     1            3                      110         211   \n",
       "14    58     0            3                      150         283   \n",
       "\n",
       "    azúcar_ayunas  electro_reposo  frecuencia_máxima  angina_por_ejercicio  \\\n",
       "0               1               0                150                     0   \n",
       "1               0               1                187                     0   \n",
       "2               0               0                172                     0   \n",
       "3               0               1                178                     0   \n",
       "4               0               1                163                     1   \n",
       "5               0               1                148                     0   \n",
       "6               0               0                153                     0   \n",
       "7               0               1                173                     0   \n",
       "8               1               1                162                     0   \n",
       "9               0               1                174                     0   \n",
       "10              0               1                160                     0   \n",
       "11              0               1                139                     0   \n",
       "12              0               1                171                     0   \n",
       "13              0               0                144                     1   \n",
       "14              1               0                162                     0   \n",
       "\n",
       "    depresión_ST_por_ejercicio  pendiente_ST_max_ejercicio  número_vasos  \\\n",
       "0                          2.3                           0             0   \n",
       "1                          3.5                           0             0   \n",
       "2                          1.4                           2             0   \n",
       "3                          0.8                           2             0   \n",
       "4                          0.6                           2             0   \n",
       "5                          0.4                           1             0   \n",
       "6                          1.3                           1             0   \n",
       "7                          0.0                           2             0   \n",
       "8                          0.5                           2             0   \n",
       "9                          1.6                           2             0   \n",
       "10                         1.2                           2             0   \n",
       "11                         0.2                           2             0   \n",
       "12                         0.6                           2             0   \n",
       "13                         1.8                           1             0   \n",
       "14                         1.0                           2             0   \n",
       "\n",
       "    talio  resultado  \n",
       "0       1          1  \n",
       "1       2          1  \n",
       "2       2          1  \n",
       "3       2          1  \n",
       "4       2          1  \n",
       "5       1          1  \n",
       "6       2          1  \n",
       "7       3          1  \n",
       "8       3          1  \n",
       "9       2          1  \n",
       "10      2          1  \n",
       "11      2          1  \n",
       "12      2          1  \n",
       "13      2          1  \n",
       "14      2          1  "
      ]
     },
     "execution_count": 4,
     "metadata": {},
     "output_type": "execute_result"
    }
   ],
   "source": [
    "df.head(15)"
   ]
  },
  {
   "cell_type": "markdown",
   "id": "f5c87499",
   "metadata": {},
   "source": [
    "# Análisis exploratorio preliminar"
   ]
  },
  {
   "cell_type": "markdown",
   "id": "5d5a79d8",
   "metadata": {},
   "source": [
    "A continuación, realizaremos un primer análisis exploratorio de los datos para comprobar con qué contamos."
   ]
  },
  {
   "cell_type": "code",
   "execution_count": 5,
   "id": "c2f945e6",
   "metadata": {},
   "outputs": [
    {
     "name": "stdout",
     "output_type": "stream",
     "text": [
      "<class 'pandas.core.frame.DataFrame'>\n",
      "RangeIndex: 303 entries, 0 to 302\n",
      "Data columns (total 14 columns):\n",
      " #   Column                      Non-Null Count  Dtype  \n",
      "---  ------                      --------------  -----  \n",
      " 0   edad                        303 non-null    int64  \n",
      " 1   sexo                        303 non-null    int64  \n",
      " 2   dolor_pecho                 303 non-null    int64  \n",
      " 3   presion_arterial_reposo     303 non-null    int64  \n",
      " 4   colesterol                  303 non-null    int64  \n",
      " 5   azúcar_ayunas               303 non-null    int64  \n",
      " 6   electro_reposo              303 non-null    int64  \n",
      " 7   frecuencia_máxima           303 non-null    int64  \n",
      " 8   angina_por_ejercicio        303 non-null    int64  \n",
      " 9   depresión_ST_por_ejercicio  303 non-null    float64\n",
      " 10  pendiente_ST_max_ejercicio  303 non-null    int64  \n",
      " 11  número_vasos                303 non-null    int64  \n",
      " 12  talio                       303 non-null    int64  \n",
      " 13  resultado                   303 non-null    int64  \n",
      "dtypes: float64(1), int64(13)\n",
      "memory usage: 33.3 KB\n"
     ]
    }
   ],
   "source": [
    "df.info()"
   ]
  },
  {
   "cell_type": "markdown",
   "id": "ed5c0343",
   "metadata": {},
   "source": [
    "Se comprueba que contamos con 303 entradas y que para ninguna de las categorías hay elementos nulos (NaN)"
   ]
  },
  {
   "cell_type": "markdown",
   "id": "bb0c92f8",
   "metadata": {},
   "source": [
    "# Representaciones gráficas"
   ]
  },
  {
   "cell_type": "code",
   "execution_count": 6,
   "id": "1d640751",
   "metadata": {},
   "outputs": [
    {
     "data": {
      "image/png": "[encoded data removed]",
      "text/plain": [
       "<Figure size 432x288 with 1 Axes>"
      ]
     },
     "metadata": {
      "needs_background": "light"
     },
     "output_type": "display_data"
    }
   ],
   "source": [
    "sns.countplot(x = 'resultado', data = df)\n",
    "plt.xlabel(\"0 - Baja     1 - Alta\")\n",
    "plt.ylabel(\"Número de personas\")\n",
    "plt.title(\"Distribución total de probabilidad de sufrir infarto\")\n",
    "plt.show()"
   ]
  },
  {
   "cell_type": "code",
   "execution_count": 7,
   "id": "1362c6b2",
   "metadata": {},
   "outputs": [
    {
     "name": "stdout",
     "output_type": "stream",
     "text": [
      "Alta probabilidad:  165\n",
      "Baja probabilidad:  138\n"
     ]
    }
   ],
   "source": [
    "print('Alta probabilidad: ',(df['resultado']==1).sum())\n",
    "print('Baja probabilidad: ',(df['resultado']==0).sum())"
   ]
  },
  {
   "cell_type": "markdown",
   "id": "a24f0a3c",
   "metadata": {},
   "source": [
    "Con esta primera visualización se comprueba que, para la muestra de datos, 165 personas tienen altas probabilidades de sufrir un infarto frente a 138 que no."
   ]
  },
  {
   "cell_type": "code",
   "execution_count": 8,
   "id": "9a3c95c1",
   "metadata": {},
   "outputs": [
    {
     "data": {
      "image/png": "[encoded data removed]",
      "text/plain": [
       "<Figure size 432x288 with 1 Axes>"
      ]
     },
     "metadata": {
      "needs_background": "light"
     },
     "output_type": "display_data"
    }
   ],
   "source": [
    "sns.countplot(x = 'resultado', hue = 'sexo', data = df)\n",
    "plt.xlabel(\"0 - Baja     1 - Alta\")\n",
    "plt.ylabel(\"Número de personas\")\n",
    "plt.title(\"Probabilidad de sufrir infarto por género\")\n",
    "plt.legend(['Mujeres','Hombres'])\n",
    "plt.show()"
   ]
  },
  {
   "cell_type": "markdown",
   "id": "aea0ade1",
   "metadata": {},
   "source": [
    "Este gráfico parece indicarnos que, en relación a su género, las mujeres cuentan con más probabilidades de padecer un infarto que los hombres. Habría que comprobar si los datos están balanceados."
   ]
  },
  {
   "cell_type": "code",
   "execution_count": 9,
   "id": "7d3b285e",
   "metadata": {},
   "outputs": [
    {
     "name": "stdout",
     "output_type": "stream",
     "text": [
      "Número total de mujeres:  96\n",
      "Número total de hombres:  207\n"
     ]
    }
   ],
   "source": [
    "print('Número total de mujeres: ', (df['sexo']==0).sum())\n",
    "print('Número total de hombres: ', (df['sexo']==1).sum())"
   ]
  },
  {
   "cell_type": "markdown",
   "id": "889a1b36",
   "metadata": {},
   "source": [
    "Esta distribución se puede comprobar en la siguiente imagen:"
   ]
  },
  {
   "cell_type": "code",
   "execution_count": 10,
   "id": "a75e843b",
   "metadata": {},
   "outputs": [
    {
     "data": {
      "image/png": "[encoded data removed]",
      "text/plain": [
       "<Figure size 432x288 with 1 Axes>"
      ]
     },
     "metadata": {
      "needs_background": "light"
     },
     "output_type": "display_data"
    }
   ],
   "source": [
    "sns.countplot(x = 'sexo', data = df)\n",
    "plt.xlabel(\"Sexo\")\n",
    "plt.ylabel(\"Número de personas\")\n",
    "plt.title(\"Distribución por sexo\")\n",
    "plt.legend(['Mujeres','Hombres'])\n",
    "plt.show()"
   ]
  },
  {
   "cell_type": "code",
   "execution_count": 11,
   "id": "00c88f65",
   "metadata": {},
   "outputs": [
    {
     "data": {
      "image/png": "[encoded data removed]",
      "text/plain": [
       "<Figure size 576x360 with 1 Axes>"
      ]
     },
     "metadata": {
      "needs_background": "light"
     },
     "output_type": "display_data"
    }
   ],
   "source": [
    "plt.figure(figsize=(8, 5))\n",
    "sns.kdeplot(df['edad'],shade=True, color='g')\n",
    "plt.show()"
   ]
  },
  {
   "cell_type": "markdown",
   "id": "0b8a084c",
   "metadata": {},
   "source": [
    "Esta gráfica nos muestra el rango de edades de la muestra. Se comprueba que la mayor parte de las personas cuentan con una edad comprendida entre los 45 y los 65 años."
   ]
  },
  {
   "cell_type": "code",
   "execution_count": 12,
   "id": "c2bf6553",
   "metadata": {},
   "outputs": [
    {
     "data": {
      "image/png": "[encoded data removed]",
      "text/plain": [
       "<Figure size 432x288 with 1 Axes>"
      ]
     },
     "metadata": {
      "needs_background": "light"
     },
     "output_type": "display_data"
    }
   ],
   "source": [
    "df['dolor_pecho'].value_counts().plot(kind='bar',label='Dolor', color='lightblue')\n",
    "plt.legend()\n",
    "plt.xlabel('Escala de dolor')\n",
    "plt.show()"
   ]
  },
  {
   "cell_type": "code",
   "execution_count": 13,
   "id": "bc97e330",
   "metadata": {},
   "outputs": [
    {
     "name": "stdout",
     "output_type": "stream",
     "text": [
      "Sin dolor (asintomático):                       143\n",
      "Dolor de angina de pecho atípica:                87\n",
      "Dolor de angina de pecho común:                  50\n",
      "Dolor fuerte no compatible con angina de pecho:  23\n"
     ]
    }
   ],
   "source": [
    "print('Sin dolor (asintomático):                      ', (df['dolor_pecho']==0).sum())\n",
    "print('Dolor de angina de pecho atípica:               ', (df['dolor_pecho']==2).sum())\n",
    "print('Dolor de angina de pecho común:                 ', (df['dolor_pecho']==1).sum())\n",
    "print('Dolor fuerte no compatible con angina de pecho: ', (df['dolor_pecho']==3).sum())"
   ]
  },
  {
   "cell_type": "markdown",
   "id": "b631cc00",
   "metadata": {},
   "source": [
    "Esto nos indica que la mayoría de pacientes no sufre de dolor alguno en el pecho, seguido de 87 casos en los que el dolor se corresponde con una angina de pecho típica, 50 con un dolor medio compatible con anginas de pecho atípicas y 23 pacientes con un dolor fuerte no compatible con ninguna modalidad de angina de pecho"
   ]
  },
  {
   "cell_type": "code",
   "execution_count": 14,
   "id": "d09dcc51",
   "metadata": {},
   "outputs": [
    {
     "data": {
      "image/png": "[encoded data removed]",
      "text/plain": [
       "<Figure size 576x360 with 1 Axes>"
      ]
     },
     "metadata": {
      "needs_background": "light"
     },
     "output_type": "display_data"
    }
   ],
   "source": [
    "plt.figure(figsize=(8, 5))\n",
    "sns.histplot(df['presion_arterial_reposo'], color=\"red\", kde= True, label='Presión sanguínea')\n",
    "plt.legend()\n",
    "plt.show()"
   ]
  },
  {
   "cell_type": "markdown",
   "id": "d5630c8e",
   "metadata": {},
   "source": [
    "Esta imagen nos indica que los valores más habituales para la presión arterial en reposo están comprendidos entre 110 y 140 mm de Mercurio."
   ]
  },
  {
   "cell_type": "code",
   "execution_count": 15,
   "id": "6994d349",
   "metadata": {},
   "outputs": [
    {
     "data": {
      "image/png": "[encoded data removed]",
      "text/plain": [
       "<Figure size 576x360 with 1 Axes>"
      ]
     },
     "metadata": {
      "needs_background": "light"
     },
     "output_type": "display_data"
    }
   ],
   "source": [
    "plt.figure(figsize=(8, 5))\n",
    "sns.kdeplot(df['colesterol'],color='black',shade=True,label='Colesterol')\n",
    "plt.legend()\n",
    "plt.show()"
   ]
  },
  {
   "cell_type": "markdown",
   "id": "58f91c07",
   "metadata": {},
   "source": [
    "Los valores más comunes de colesterol en sangre se distribuyen entre los 180 y 300 mg/dl."
   ]
  },
  {
   "cell_type": "code",
   "execution_count": 16,
   "id": "cafc6732",
   "metadata": {},
   "outputs": [
    {
     "data": {
      "image/png": "[encoded data removed]",
      "text/plain": [
       "<Figure size 576x360 with 1 Axes>"
      ]
     },
     "metadata": {
      "needs_background": "light"
     },
     "output_type": "display_data"
    }
   ],
   "source": [
    "plt.figure(figsize=(8, 5))\n",
    "sns.countplot(x='azúcar_ayunas', data = df, palette='YlOrBr')\n",
    "plt.title('Azúcar en sangre de la población')\n",
    "plt.xlabel('Azúcar > 120 mg/dl')\n",
    "plt.show()"
   ]
  },
  {
   "cell_type": "markdown",
   "id": "df6674cf",
   "metadata": {},
   "source": [
    "Aquí se nos indica que la gran mayoría de personas tienen unos niveles de azúcar en sangre inferior a los 120 mg/dl. Cosa sorprendente viendo la cantidad de azúcares añadidos que contienen todas las comidas generalmente."
   ]
  },
  {
   "cell_type": "code",
   "execution_count": 17,
   "id": "9efac09c",
   "metadata": {},
   "outputs": [
    {
     "data": {
      "image/png": "[encoded data removed]",
      "text/plain": [
       "<Figure size 576x792 with 1 Axes>"
      ]
     },
     "metadata": {},
     "output_type": "display_data"
    }
   ],
   "source": [
    "plt.figure(figsize=(8, 11))\n",
    "colores = [\"#60D394\",\"#FFD97D\",\"#FF9B85\"]\n",
    "df['electro_reposo'].value_counts().plot(kind='pie',label='Electrocardiograma', colors=colores, autopct=\"%0.1f %%\")\n",
    "plt.legend(['onda ST-T anormal','normal','hipertrofia ventricular'], loc=\"best\")\n",
    "plt.xlabel('Electro en reposo')\n",
    "plt.show()"
   ]
  },
  {
   "cell_type": "markdown",
   "id": "c2e2da88",
   "metadata": {},
   "source": [
    "Este gráfico circular nos indica el porcentaje en los resultados de los electrocardiogramas efectuados. El 48.5% presentan un electro normal frente al 50.2% que tienen la onda ST-T anormal. Contaríamos con un 1.3% de pacientes que cuentan con hipertrofia ventricular izquierda."
   ]
  },
  {
   "cell_type": "code",
   "execution_count": 18,
   "id": "75aefbfb",
   "metadata": {},
   "outputs": [
    {
     "data": {
      "image/png": "[encoded data removed]",
      "text/plain": [
       "<Figure size 576x360 with 1 Axes>"
      ]
     },
     "metadata": {
      "needs_background": "light"
     },
     "output_type": "display_data"
    }
   ],
   "source": [
    "plt.figure(figsize=(8, 5))\n",
    "sns.histplot(df['frecuencia_máxima'], color=\"purple\", kde= True, label='Frecuencia máxima')\n",
    "plt.legend(loc='upper left')\n",
    "plt.show()"
   ]
  },
  {
   "cell_type": "markdown",
   "id": "bde70d7b",
   "metadata": {},
   "source": [
    "En esta ocasión, podemos observar que la frecuencia máxima más común se encuentra en el intervalo entre las 130 y 180 pulsaciones por minuto. El máximo lo encontramos en 202 pulsaciones, donde muy pocos pacientes (sólo uno) llegan a alcanzar ese límite."
   ]
  },
  {
   "cell_type": "code",
   "execution_count": 19,
   "id": "a787fefe",
   "metadata": {},
   "outputs": [
    {
     "name": "stdout",
     "output_type": "stream",
     "text": [
      "Frecuencia cardíaca máxima:                      202\n",
      "Nº de personas que alcanzan la frecuencia máxima:  1\n"
     ]
    }
   ],
   "source": [
    "print('Frecuencia cardíaca máxima:                     ', df['frecuencia_máxima'].max())\n",
    "print('Nº de personas que alcanzan la frecuencia máxima: ',(df['frecuencia_máxima']==202).sum())"
   ]
  },
  {
   "cell_type": "code",
   "execution_count": 20,
   "id": "17f2f491",
   "metadata": {},
   "outputs": [
    {
     "data": {
      "image/png": "[encoded data removed]",
      "text/plain": [
       "<Figure size 576x360 with 1 Axes>"
      ]
     },
     "metadata": {
      "needs_background": "light"
     },
     "output_type": "display_data"
    }
   ],
   "source": [
    "plt.figure(figsize=(8, 5))\n",
    "df['angina_por_ejercicio'].value_counts().plot(kind='bar',label='Angina inducida', color = '#be9b22')\n",
    "plt.legend()\n",
    "plt.xlabel('Angina por ejercicio')\n",
    "plt.show()"
   ]
  },
  {
   "cell_type": "code",
   "execution_count": 21,
   "id": "846e5636",
   "metadata": {},
   "outputs": [
    {
     "name": "stdout",
     "output_type": "stream",
     "text": [
      "Anginas no provocadas por el ejercicio:  204\n",
      "Anginas provocadas por el ejercicio:      99\n"
     ]
    }
   ],
   "source": [
    "print('Anginas no provocadas por el ejercicio: ', (df['angina_por_ejercicio']==0).sum())\n",
    "print('Anginas provocadas por el ejercicio:     ', (df['angina_por_ejercicio']==1).sum())\n"
   ]
  },
  {
   "cell_type": "markdown",
   "id": "390e5788",
   "metadata": {},
   "source": [
    "La mayoría de anginas no son provocadas por la realización del ejercicio."
   ]
  },
  {
   "cell_type": "code",
   "execution_count": 22,
   "id": "c93b3772",
   "metadata": {},
   "outputs": [
    {
     "data": {
      "image/png": "[encoded data removed]",
      "text/plain": [
       "<Figure size 1008x360 with 1 Axes>"
      ]
     },
     "metadata": {
      "needs_background": "light"
     },
     "output_type": "display_data"
    }
   ],
   "source": [
    "plt.figure(figsize=(14, 5))\n",
    "sns.kdeplot(df['depresión_ST_por_ejercicio'],shade=False,label='Depresión ST inducido por el ejercicio en relación al reposo')\n",
    "plt.legend()\n",
    "plt.xlabel('Depresión onda ST por el ejercicio')\n",
    "plt.show()"
   ]
  },
  {
   "cell_type": "code",
   "execution_count": 23,
   "id": "b83bfd05",
   "metadata": {},
   "outputs": [
    {
     "data": {
      "image/png": "[encoded data removed]",
      "text/plain": [
       "<Figure size 576x360 with 1 Axes>"
      ]
     },
     "metadata": {
      "needs_background": "light"
     },
     "output_type": "display_data"
    }
   ],
   "source": [
    "plt.figure(figsize=(8, 5))\n",
    "df['pendiente_ST_max_ejercicio'].value_counts().plot(kind='bar',label='Pendiente', color=\"brown\")\n",
    "plt.legend()\n",
    "plt.xlabel('Pendiente del segmento ST en ejercicio máximo')\n",
    "plt.show()"
   ]
  },
  {
   "cell_type": "code",
   "execution_count": 24,
   "id": "806e8124",
   "metadata": {},
   "outputs": [
    {
     "name": "stdout",
     "output_type": "stream",
     "text": [
      "Nº de personas con pendiente ascendente:  142\n",
      "Nº de personas con pendiente descendente:  21\n",
      "Nº de personas con pendiente plana:       142\n"
     ]
    }
   ],
   "source": [
    "print('Nº de personas con pendiente ascendente: ',(df['pendiente_ST_max_ejercicio']==2).sum())\n",
    "print('Nº de personas con pendiente descendente: ',(df['pendiente_ST_max_ejercicio']==0).sum())\n",
    "print('Nº de personas con pendiente plana:      ',(df['pendiente_ST_max_ejercicio']==2).sum())"
   ]
  },
  {
   "cell_type": "code",
   "execution_count": 25,
   "id": "42e58e1b",
   "metadata": {},
   "outputs": [
    {
     "data": {
      "image/png": "[encoded data removed]",
      "text/plain": [
       "<Figure size 576x360 with 1 Axes>"
      ]
     },
     "metadata": {
      "needs_background": "light"
     },
     "output_type": "display_data"
    }
   ],
   "source": [
    "plt.figure(figsize=(8, 5))\n",
    "df['número_vasos'].value_counts().plot(kind='bar',label='Vasos principales',color='#73a925')\n",
    "plt.legend()\n",
    "plt.xlabel('Número de vasos principales coloreados por fluoroscopia')\n",
    "plt.show()"
   ]
  },
  {
   "cell_type": "markdown",
   "id": "e2f26566",
   "metadata": {},
   "source": [
    "Esto nos indica que la mayoría de casos no presentan coloración en las arterias principales debido a la fluoroscopia."
   ]
  },
  {
   "cell_type": "markdown",
   "id": "b9b7d67a",
   "metadata": {},
   "source": [
    "# Análisis exploratorio (EDA)"
   ]
  },
  {
   "cell_type": "markdown",
   "id": "54ad5481",
   "metadata": {},
   "source": [
    "A continuación, realizaremos un primer análisis exploratorio de los datos para comprobar con qué contamos."
   ]
  },
  {
   "cell_type": "code",
   "execution_count": 26,
   "id": "247fa491",
   "metadata": {},
   "outputs": [
    {
     "data": {
      "text/plain": [
       "(303, 14)"
      ]
     },
     "execution_count": 26,
     "metadata": {},
     "output_type": "execute_result"
    }
   ],
   "source": [
    "df.shape"
   ]
  },
  {
   "cell_type": "markdown",
   "id": "4f01059e",
   "metadata": {},
   "source": [
    "Gracias a este método, comprobamos que el dataset, transformado en dataframe, está compuesto por 303 filas y 14 columnas o categorías."
   ]
  },
  {
   "cell_type": "code",
   "execution_count": 27,
   "id": "cfe8370c",
   "metadata": {},
   "outputs": [
    {
     "data": {
      "text/plain": [
       "2"
      ]
     },
     "execution_count": 27,
     "metadata": {},
     "output_type": "execute_result"
    }
   ],
   "source": [
    "df.ndim"
   ]
  },
  {
   "cell_type": "markdown",
   "id": "dc25987e",
   "metadata": {},
   "source": [
    "Las dimensiones de que está formado son 2."
   ]
  },
  {
   "cell_type": "code",
   "execution_count": 28,
   "id": "9f36326c",
   "metadata": {},
   "outputs": [
    {
     "data": {
      "text/plain": [
       "4242"
      ]
     },
     "execution_count": 28,
     "metadata": {},
     "output_type": "execute_result"
    }
   ],
   "source": [
    "df.size"
   ]
  },
  {
   "cell_type": "markdown",
   "id": "8d311cfd",
   "metadata": {},
   "source": [
    "El tamaño o número total de datos es de 4.242 (nº de filas x nº de columnas)."
   ]
  },
  {
   "cell_type": "code",
   "execution_count": 29,
   "id": "67f1601e",
   "metadata": {},
   "outputs": [
    {
     "name": "stdout",
     "output_type": "stream",
     "text": [
      "<class 'pandas.core.frame.DataFrame'>\n",
      "RangeIndex: 303 entries, 0 to 302\n",
      "Data columns (total 14 columns):\n",
      " #   Column                      Non-Null Count  Dtype  \n",
      "---  ------                      --------------  -----  \n",
      " 0   edad                        303 non-null    int64  \n",
      " 1   sexo                        303 non-null    int64  \n",
      " 2   dolor_pecho                 303 non-null    int64  \n",
      " 3   presion_arterial_reposo     303 non-null    int64  \n",
      " 4   colesterol                  303 non-null    int64  \n",
      " 5   azúcar_ayunas               303 non-null    int64  \n",
      " 6   electro_reposo              303 non-null    int64  \n",
      " 7   frecuencia_máxima           303 non-null    int64  \n",
      " 8   angina_por_ejercicio        303 non-null    int64  \n",
      " 9   depresión_ST_por_ejercicio  303 non-null    float64\n",
      " 10  pendiente_ST_max_ejercicio  303 non-null    int64  \n",
      " 11  número_vasos                303 non-null    int64  \n",
      " 12  talio                       303 non-null    int64  \n",
      " 13  resultado                   303 non-null    int64  \n",
      "dtypes: float64(1), int64(13)\n",
      "memory usage: 33.3 KB\n"
     ]
    }
   ],
   "source": [
    "df.info()"
   ]
  },
  {
   "cell_type": "markdown",
   "id": "7e8618c8",
   "metadata": {},
   "source": [
    "De esta forma comprobamos todas las categorías que conforman el dataframe (14 en total), presentándose 303 entradas donde no hay datos nulos. El tamaño en memoria es de 33.3 KB y podemos apreciar que la mayoría de los datos son de tipo integer (enteros)."
   ]
  },
  {
   "cell_type": "code",
   "execution_count": 30,
   "id": "594a73c3",
   "metadata": {},
   "outputs": [
    {
     "data": {
      "text/plain": [
       "edad                          [63, 37, 41, 56, 57, 44, 52, 54, 48, 49, 64, 5...\n",
       "sexo                                                                     [1, 0]\n",
       "dolor_pecho                                                        [3, 2, 1, 0]\n",
       "presion_arterial_reposo       [145, 130, 120, 140, 172, 150, 110, 135, 160, ...\n",
       "colesterol                    [233, 250, 204, 236, 354, 192, 294, 263, 199, ...\n",
       "azúcar_ayunas                                                            [1, 0]\n",
       "electro_reposo                                                        [0, 1, 2]\n",
       "frecuencia_máxima             [150, 187, 172, 178, 163, 148, 153, 173, 162, ...\n",
       "angina_por_ejercicio                                                     [0, 1]\n",
       "depresión_ST_por_ejercicio    [2.3, 3.5, 1.4, 0.8, 0.6, 0.4, 1.3, 0.0, 0.5, ...\n",
       "pendiente_ST_max_ejercicio                                            [0, 2, 1]\n",
       "número_vasos                                                    [0, 2, 1, 3, 4]\n",
       "talio                                                              [1, 2, 3, 0]\n",
       "resultado                                                                [1, 0]\n",
       "dtype: object"
      ]
     },
     "execution_count": 30,
     "metadata": {},
     "output_type": "execute_result"
    }
   ],
   "source": [
    "df.apply(lambda x: x.unique())"
   ]
  },
  {
   "cell_type": "markdown",
   "id": "866413f3",
   "metadata": {},
   "source": [
    "Aquí podemos comprobar los valores únicos presentes para cada una de las variables. Como vemos, algunas de estas variables parecen ser categóricas (sexo, dolor_pecho, azucar_ayunas, electro_reposo, angina_por_ejercicio, pendiente_ST_max_ejercicio, número_vasos, talio y resultado)."
   ]
  },
  {
   "cell_type": "code",
   "execution_count": 31,
   "id": "fab9ac4e",
   "metadata": {},
   "outputs": [
    {
     "data": {
      "text/plain": [
       "edad                           41\n",
       "sexo                            2\n",
       "dolor_pecho                     4\n",
       "presion_arterial_reposo        49\n",
       "colesterol                    152\n",
       "azúcar_ayunas                   2\n",
       "electro_reposo                  3\n",
       "frecuencia_máxima              91\n",
       "angina_por_ejercicio            2\n",
       "depresión_ST_por_ejercicio     40\n",
       "pendiente_ST_max_ejercicio      3\n",
       "número_vasos                    5\n",
       "talio                           4\n",
       "resultado                       2\n",
       "dtype: int64"
      ]
     },
     "execution_count": 31,
     "metadata": {},
     "output_type": "execute_result"
    }
   ],
   "source": [
    "df.nunique(axis=0)"
   ]
  },
  {
   "cell_type": "markdown",
   "id": "c6976d06",
   "metadata": {},
   "source": [
    "En esta tabla, indicamos el número total de variables únicas presentes en cada categoría."
   ]
  },
  {
   "cell_type": "code",
   "execution_count": 32,
   "id": "713a2feb",
   "metadata": {},
   "outputs": [
    {
     "data": {
      "text/html": [
       "<div>\n",
       "<style scoped>\n",
       "    .dataframe tbody tr th:only-of-type {\n",
       "        vertical-align: middle;\n",
       "    }\n",
       "\n",
       "    .dataframe tbody tr th {\n",
       "        vertical-align: top;\n",
       "    }\n",
       "\n",
       "    .dataframe thead th {\n",
       "        text-align: right;\n",
       "    }\n",
       "</style>\n",
       "<table border=\"1\" class=\"dataframe\">\n",
       "  <thead>\n",
       "    <tr style=\"text-align: right;\">\n",
       "      <th></th>\n",
       "      <th>edad</th>\n",
       "      <th>sexo</th>\n",
       "      <th>dolor_pecho</th>\n",
       "      <th>presion_arterial_reposo</th>\n",
       "      <th>colesterol</th>\n",
       "      <th>azúcar_ayunas</th>\n",
       "      <th>electro_reposo</th>\n",
       "      <th>frecuencia_máxima</th>\n",
       "      <th>angina_por_ejercicio</th>\n",
       "      <th>depresión_ST_por_ejercicio</th>\n",
       "      <th>pendiente_ST_max_ejercicio</th>\n",
       "      <th>número_vasos</th>\n",
       "      <th>talio</th>\n",
       "      <th>resultado</th>\n",
       "    </tr>\n",
       "  </thead>\n",
       "  <tbody>\n",
       "    <tr>\n",
       "      <th>count</th>\n",
       "      <td>303.000000</td>\n",
       "      <td>303.000000</td>\n",
       "      <td>303.000000</td>\n",
       "      <td>303.000000</td>\n",
       "      <td>303.000000</td>\n",
       "      <td>303.000000</td>\n",
       "      <td>303.000000</td>\n",
       "      <td>303.000000</td>\n",
       "      <td>303.000000</td>\n",
       "      <td>303.000000</td>\n",
       "      <td>303.000000</td>\n",
       "      <td>303.000000</td>\n",
       "      <td>303.000000</td>\n",
       "      <td>303.000000</td>\n",
       "    </tr>\n",
       "    <tr>\n",
       "      <th>mean</th>\n",
       "      <td>54.366337</td>\n",
       "      <td>0.683168</td>\n",
       "      <td>0.966997</td>\n",
       "      <td>131.623762</td>\n",
       "      <td>246.264026</td>\n",
       "      <td>0.148515</td>\n",
       "      <td>0.528053</td>\n",
       "      <td>149.646865</td>\n",
       "      <td>0.326733</td>\n",
       "      <td>1.039604</td>\n",
       "      <td>1.399340</td>\n",
       "      <td>0.729373</td>\n",
       "      <td>2.313531</td>\n",
       "      <td>0.544554</td>\n",
       "    </tr>\n",
       "    <tr>\n",
       "      <th>std</th>\n",
       "      <td>9.082101</td>\n",
       "      <td>0.466011</td>\n",
       "      <td>1.032052</td>\n",
       "      <td>17.538143</td>\n",
       "      <td>51.830751</td>\n",
       "      <td>0.356198</td>\n",
       "      <td>0.525860</td>\n",
       "      <td>22.905161</td>\n",
       "      <td>0.469794</td>\n",
       "      <td>1.161075</td>\n",
       "      <td>0.616226</td>\n",
       "      <td>1.022606</td>\n",
       "      <td>0.612277</td>\n",
       "      <td>0.498835</td>\n",
       "    </tr>\n",
       "    <tr>\n",
       "      <th>min</th>\n",
       "      <td>29.000000</td>\n",
       "      <td>0.000000</td>\n",
       "      <td>0.000000</td>\n",
       "      <td>94.000000</td>\n",
       "      <td>126.000000</td>\n",
       "      <td>0.000000</td>\n",
       "      <td>0.000000</td>\n",
       "      <td>71.000000</td>\n",
       "      <td>0.000000</td>\n",
       "      <td>0.000000</td>\n",
       "      <td>0.000000</td>\n",
       "      <td>0.000000</td>\n",
       "      <td>0.000000</td>\n",
       "      <td>0.000000</td>\n",
       "    </tr>\n",
       "    <tr>\n",
       "      <th>25%</th>\n",
       "      <td>47.500000</td>\n",
       "      <td>0.000000</td>\n",
       "      <td>0.000000</td>\n",
       "      <td>120.000000</td>\n",
       "      <td>211.000000</td>\n",
       "      <td>0.000000</td>\n",
       "      <td>0.000000</td>\n",
       "      <td>133.500000</td>\n",
       "      <td>0.000000</td>\n",
       "      <td>0.000000</td>\n",
       "      <td>1.000000</td>\n",
       "      <td>0.000000</td>\n",
       "      <td>2.000000</td>\n",
       "      <td>0.000000</td>\n",
       "    </tr>\n",
       "    <tr>\n",
       "      <th>50%</th>\n",
       "      <td>55.000000</td>\n",
       "      <td>1.000000</td>\n",
       "      <td>1.000000</td>\n",
       "      <td>130.000000</td>\n",
       "      <td>240.000000</td>\n",
       "      <td>0.000000</td>\n",
       "      <td>1.000000</td>\n",
       "      <td>153.000000</td>\n",
       "      <td>0.000000</td>\n",
       "      <td>0.800000</td>\n",
       "      <td>1.000000</td>\n",
       "      <td>0.000000</td>\n",
       "      <td>2.000000</td>\n",
       "      <td>1.000000</td>\n",
       "    </tr>\n",
       "    <tr>\n",
       "      <th>75%</th>\n",
       "      <td>61.000000</td>\n",
       "      <td>1.000000</td>\n",
       "      <td>2.000000</td>\n",
       "      <td>140.000000</td>\n",
       "      <td>274.500000</td>\n",
       "      <td>0.000000</td>\n",
       "      <td>1.000000</td>\n",
       "      <td>166.000000</td>\n",
       "      <td>1.000000</td>\n",
       "      <td>1.600000</td>\n",
       "      <td>2.000000</td>\n",
       "      <td>1.000000</td>\n",
       "      <td>3.000000</td>\n",
       "      <td>1.000000</td>\n",
       "    </tr>\n",
       "    <tr>\n",
       "      <th>max</th>\n",
       "      <td>77.000000</td>\n",
       "      <td>1.000000</td>\n",
       "      <td>3.000000</td>\n",
       "      <td>200.000000</td>\n",
       "      <td>564.000000</td>\n",
       "      <td>1.000000</td>\n",
       "      <td>2.000000</td>\n",
       "      <td>202.000000</td>\n",
       "      <td>1.000000</td>\n",
       "      <td>6.200000</td>\n",
       "      <td>2.000000</td>\n",
       "      <td>4.000000</td>\n",
       "      <td>3.000000</td>\n",
       "      <td>1.000000</td>\n",
       "    </tr>\n",
       "  </tbody>\n",
       "</table>\n",
       "</div>"
      ],
      "text/plain": [
       "             edad        sexo  dolor_pecho  presion_arterial_reposo  \\\n",
       "count  303.000000  303.000000   303.000000               303.000000   \n",
       "mean    54.366337    0.683168     0.966997               131.623762   \n",
       "std      9.082101    0.466011     1.032052                17.538143   \n",
       "min     29.000000    0.000000     0.000000                94.000000   \n",
       "25%     47.500000    0.000000     0.000000               120.000000   \n",
       "50%     55.000000    1.000000     1.000000               130.000000   \n",
       "75%     61.000000    1.000000     2.000000               140.000000   \n",
       "max     77.000000    1.000000     3.000000               200.000000   \n",
       "\n",
       "       colesterol  azúcar_ayunas  electro_reposo  frecuencia_máxima  \\\n",
       "count  303.000000     303.000000      303.000000         303.000000   \n",
       "mean   246.264026       0.148515        0.528053         149.646865   \n",
       "std     51.830751       0.356198        0.525860          22.905161   \n",
       "min    126.000000       0.000000        0.000000          71.000000   \n",
       "25%    211.000000       0.000000        0.000000         133.500000   \n",
       "50%    240.000000       0.000000        1.000000         153.000000   \n",
       "75%    274.500000       0.000000        1.000000         166.000000   \n",
       "max    564.000000       1.000000        2.000000         202.000000   \n",
       "\n",
       "       angina_por_ejercicio  depresión_ST_por_ejercicio  \\\n",
       "count            303.000000                  303.000000   \n",
       "mean               0.326733                    1.039604   \n",
       "std                0.469794                    1.161075   \n",
       "min                0.000000                    0.000000   \n",
       "25%                0.000000                    0.000000   \n",
       "50%                0.000000                    0.800000   \n",
       "75%                1.000000                    1.600000   \n",
       "max                1.000000                    6.200000   \n",
       "\n",
       "       pendiente_ST_max_ejercicio  número_vasos       talio   resultado  \n",
       "count                  303.000000    303.000000  303.000000  303.000000  \n",
       "mean                     1.399340      0.729373    2.313531    0.544554  \n",
       "std                      0.616226      1.022606    0.612277    0.498835  \n",
       "min                      0.000000      0.000000    0.000000    0.000000  \n",
       "25%                      1.000000      0.000000    2.000000    0.000000  \n",
       "50%                      1.000000      0.000000    2.000000    1.000000  \n",
       "75%                      2.000000      1.000000    3.000000    1.000000  \n",
       "max                      2.000000      4.000000    3.000000    1.000000  "
      ]
     },
     "execution_count": 32,
     "metadata": {},
     "output_type": "execute_result"
    }
   ],
   "source": [
    "df.describe()"
   ]
  },
  {
   "cell_type": "markdown",
   "id": "33761197",
   "metadata": {},
   "source": [
    "Aquí se muestran los estadísticos básicos de todas las categorías del dataframe. Otra manera sería analizar estos datos de forma independiente de uno en uno. Vamos a ver el ejemplo para la categoría \"edad\"."
   ]
  },
  {
   "cell_type": "code",
   "execution_count": 33,
   "id": "01847a0f",
   "metadata": {},
   "outputs": [
    {
     "data": {
      "text/plain": [
       "54.366336633663366"
      ]
     },
     "execution_count": 33,
     "metadata": {},
     "output_type": "execute_result"
    }
   ],
   "source": [
    "df['edad'].mean()"
   ]
  },
  {
   "cell_type": "markdown",
   "id": "3e39b0c3",
   "metadata": {},
   "source": [
    "Nos indica que la edad media es de 54.36 años. Esto coincide con lo visto en la tabla superior obtenida a través del método .describe."
   ]
  },
  {
   "cell_type": "code",
   "execution_count": 34,
   "id": "11aa3f3c",
   "metadata": {},
   "outputs": [
    {
     "data": {
      "text/plain": [
       "9.082100989837857"
      ]
     },
     "execution_count": 34,
     "metadata": {},
     "output_type": "execute_result"
    }
   ],
   "source": [
    "df.edad.std()"
   ]
  },
  {
   "cell_type": "markdown",
   "id": "6885e4eb",
   "metadata": {},
   "source": [
    "La desviación estándar es de 9.08, por lo que podemos asumir que los datos cuentan con cierta dispersión con respecto a la media, aunque podemos concluir que la mayor parte de los pacientes tienen una edad particularmente concentrada entorno a la misma. La mayoría deberán presentar una edad comprendida entre los 45 y los 63 años."
   ]
  },
  {
   "cell_type": "code",
   "execution_count": 35,
   "id": "c8caa014",
   "metadata": {},
   "outputs": [
    {
     "data": {
      "text/plain": [
       "29"
      ]
     },
     "execution_count": 35,
     "metadata": {},
     "output_type": "execute_result"
    }
   ],
   "source": [
    "df.edad.min()"
   ]
  },
  {
   "cell_type": "markdown",
   "id": "8e7b8f33",
   "metadata": {},
   "source": [
    "La edad mínima contenida en los datos (paciente más jóven)."
   ]
  },
  {
   "cell_type": "code",
   "execution_count": 36,
   "id": "6f716d5e",
   "metadata": {},
   "outputs": [
    {
     "data": {
      "text/plain": [
       "77"
      ]
     },
     "execution_count": 36,
     "metadata": {},
     "output_type": "execute_result"
    }
   ],
   "source": [
    "df['edad'].max()"
   ]
  },
  {
   "cell_type": "markdown",
   "id": "38ea54f4",
   "metadata": {},
   "source": [
    "La edad máxima que podemos encontrar registrada."
   ]
  },
  {
   "cell_type": "code",
   "execution_count": 37,
   "id": "de326cc5",
   "metadata": {},
   "outputs": [
    {
     "data": {
      "text/plain": [
       "47.5"
      ]
     },
     "execution_count": 37,
     "metadata": {},
     "output_type": "execute_result"
    }
   ],
   "source": [
    "df.edad.quantile(0.25)"
   ]
  },
  {
   "cell_type": "markdown",
   "id": "7f2cb286",
   "metadata": {},
   "source": [
    "En 47.5 encontramos el primer cuartil, por debajo de este número se concentran el 25% de los datos."
   ]
  },
  {
   "cell_type": "code",
   "execution_count": 38,
   "id": "730f82c5",
   "metadata": {},
   "outputs": [
    {
     "data": {
      "text/plain": [
       "61.0"
      ]
     },
     "execution_count": 38,
     "metadata": {},
     "output_type": "execute_result"
    }
   ],
   "source": [
    "df['edad'].quantile(0.75)"
   ]
  },
  {
   "cell_type": "markdown",
   "id": "a4f37a31",
   "metadata": {},
   "source": [
    "Por encima de los 61 años, se concentra el 25% de pacientes de mayor edad."
   ]
  },
  {
   "cell_type": "markdown",
   "id": "a2146410",
   "metadata": {},
   "source": [
    "Como comprobamos a través del método .info(), no se presentan datos nulos pero de querer calcular el porcentaje sería con la siguiente expresión:"
   ]
  },
  {
   "cell_type": "code",
   "execution_count": 39,
   "id": "e7a93dfe",
   "metadata": {},
   "outputs": [
    {
     "data": {
      "text/plain": [
       "0.0"
      ]
     },
     "execution_count": 39,
     "metadata": {},
     "output_type": "execute_result"
    }
   ],
   "source": [
    "(df.sexo.isna().sum())*100/(df.sexo.count())"
   ]
  },
  {
   "cell_type": "markdown",
   "id": "b6ad83d3",
   "metadata": {},
   "source": [
    "Otra forma de llegar al mismo resultado, sería:"
   ]
  },
  {
   "cell_type": "code",
   "execution_count": 40,
   "id": "1d3536c6",
   "metadata": {},
   "outputs": [
    {
     "data": {
      "text/plain": [
       "0.0"
      ]
     },
     "execution_count": 40,
     "metadata": {},
     "output_type": "execute_result"
    }
   ],
   "source": [
    "(df.sexo.isna().sum())*100/(len(df.edad))"
   ]
  },
  {
   "cell_type": "markdown",
   "id": "bda2b18f",
   "metadata": {},
   "source": [
    "Como se puede observar, en todos los casos el porcentaje es del 0% dado que no hay datos faltantes en el dataframe."
   ]
  },
  {
   "cell_type": "markdown",
   "id": "afea3c81",
   "metadata": {},
   "source": [
    "# Representaciones boxplot"
   ]
  },
  {
   "cell_type": "code",
   "execution_count": 41,
   "id": "b1388dae",
   "metadata": {},
   "outputs": [
    {
     "data": {
      "image/png": "[encoded data removed]",
      "text/plain": [
       "<Figure size 1008x360 with 1 Axes>"
      ]
     },
     "metadata": {
      "needs_background": "light"
     },
     "output_type": "display_data"
    }
   ],
   "source": [
    "plt.figure(figsize = (14,5))\n",
    "sns.boxplot(x = 'edad', data = df)\n",
    "plt.show()"
   ]
  },
  {
   "cell_type": "markdown",
   "id": "a8e34ea4",
   "metadata": {},
   "source": [
    "Para la edad, no encontramos outliers."
   ]
  },
  {
   "cell_type": "code",
   "execution_count": 42,
   "id": "47847438",
   "metadata": {},
   "outputs": [
    {
     "data": {
      "image/png": "[encoded data removed]",
      "text/plain": [
       "<Figure size 1008x360 with 1 Axes>"
      ]
     },
     "metadata": {
      "needs_background": "light"
     },
     "output_type": "display_data"
    }
   ],
   "source": [
    "plt.figure(figsize = (14,5))\n",
    "sns.boxplot(x = 'colesterol', data = df, color='g')\n",
    "plt.show()"
   ]
  },
  {
   "cell_type": "markdown",
   "id": "b76562b5",
   "metadata": {},
   "source": [
    "Para la variable \"colesterol\", sí se encuentran outliers. En concreto, por encima de Q3 + 1.5 * Rango_intercuartílico."
   ]
  },
  {
   "cell_type": "code",
   "execution_count": 43,
   "id": "c156a14b",
   "metadata": {},
   "outputs": [
    {
     "data": {
      "image/png": "[encoded data removed]",
      "text/plain": [
       "<Figure size 1008x360 with 1 Axes>"
      ]
     },
     "metadata": {
      "needs_background": "light"
     },
     "output_type": "display_data"
    }
   ],
   "source": [
    "plt.figure(figsize = (14,5))\n",
    "sns.boxplot(x = 'presion_arterial_reposo', data = df, color='#f17c67')\n",
    "plt.show()"
   ]
  },
  {
   "cell_type": "markdown",
   "id": "698daf2b",
   "metadata": {},
   "source": [
    "Para la variable \"presion_arterial_reposo\", sí se encuentran outliers. En concreto, por encima de Q3 + 1.5 * Rango_intercuartílico."
   ]
  },
  {
   "cell_type": "code",
   "execution_count": 44,
   "id": "6fca3d14",
   "metadata": {},
   "outputs": [
    {
     "data": {
      "image/png": "[encoded data removed]",
      "text/plain": [
       "<Figure size 1008x360 with 1 Axes>"
      ]
     },
     "metadata": {
      "needs_background": "light"
     },
     "output_type": "display_data"
    }
   ],
   "source": [
    "plt.figure(figsize = (14,5))\n",
    "sns.boxplot(x = 'frecuencia_máxima', data = df, color='#67d8f1')\n",
    "plt.show()"
   ]
  },
  {
   "cell_type": "markdown",
   "id": "69a79b1e",
   "metadata": {},
   "source": [
    "Para la variable \"frecuencia_máxima\", sí se encuentran outliers. En concreto, por debajo de Q1 - 1.5 * Rango_intercuartílico."
   ]
  },
  {
   "cell_type": "code",
   "execution_count": 45,
   "id": "e19ab3cc",
   "metadata": {},
   "outputs": [
    {
     "data": {
      "image/png": "[encoded data removed]",
      "text/plain": [
       "<Figure size 1008x360 with 1 Axes>"
      ]
     },
     "metadata": {
      "needs_background": "light"
     },
     "output_type": "display_data"
    }
   ],
   "source": [
    "plt.figure(figsize = (14,5))\n",
    "sns.boxplot(x = 'depresión_ST_por_ejercicio', data = df, color='#fffb00')\n",
    "plt.show()"
   ]
  },
  {
   "cell_type": "markdown",
   "id": "3bb51f3e",
   "metadata": {},
   "source": [
    "Para la variable \"depresión_ST_por_ejercicio\", sí se encuentran outliers. En concreto, por encima de Q3 + 1.5 * Rango_intercuartílico."
   ]
  },
  {
   "cell_type": "markdown",
   "id": "6ba508f1",
   "metadata": {},
   "source": [
    "# Matriz de correlación"
   ]
  },
  {
   "cell_type": "markdown",
   "id": "f065d98b",
   "metadata": {},
   "source": [
    "A continuación, vamos a representar la matriz que correlaciona cada una de las variables del dataframe:"
   ]
  },
  {
   "cell_type": "code",
   "execution_count": 46,
   "id": "a1dd2150",
   "metadata": {},
   "outputs": [
    {
     "data": {
      "image/png": "[encoded data removed]",
      "text/plain": [
       "<Figure size 1008x792 with 2 Axes>"
      ]
     },
     "metadata": {
      "needs_background": "light"
     },
     "output_type": "display_data"
    }
   ],
   "source": [
    "plt.figure(figsize = (14,11))\n",
    "sns.heatmap(df.corr(), annot = True)\n",
    "plt.show()"
   ]
  },
  {
   "cell_type": "markdown",
   "id": "453fe367",
   "metadata": {},
   "source": [
    "Donde se observa una correlación más pronunciada es entre los resultados con el dolor de pecho, la angina inducida por ejercicio y la depresión de la onda ST producida por el ejercicio."
   ]
  },
  {
   "cell_type": "markdown",
   "id": "153d6873",
   "metadata": {},
   "source": [
    "Sin embargo, en el enunciado se nos solicita realizar la matriz de correlación para las variables numéricas continuas. De este modo:"
   ]
  },
  {
   "cell_type": "code",
   "execution_count": 47,
   "id": "a8fd975e",
   "metadata": {},
   "outputs": [],
   "source": [
    "df_var_con = df[['edad','presion_arterial_reposo','colesterol','frecuencia_máxima','depresión_ST_por_ejercicio']]"
   ]
  },
  {
   "cell_type": "code",
   "execution_count": 48,
   "id": "7a9a9377",
   "metadata": {},
   "outputs": [
    {
     "data": {
      "text/html": [
       "<div>\n",
       "<style scoped>\n",
       "    .dataframe tbody tr th:only-of-type {\n",
       "        vertical-align: middle;\n",
       "    }\n",
       "\n",
       "    .dataframe tbody tr th {\n",
       "        vertical-align: top;\n",
       "    }\n",
       "\n",
       "    .dataframe thead th {\n",
       "        text-align: right;\n",
       "    }\n",
       "</style>\n",
       "<table border=\"1\" class=\"dataframe\">\n",
       "  <thead>\n",
       "    <tr style=\"text-align: right;\">\n",
       "      <th></th>\n",
       "      <th>edad</th>\n",
       "      <th>presion_arterial_reposo</th>\n",
       "      <th>colesterol</th>\n",
       "      <th>frecuencia_máxima</th>\n",
       "      <th>depresión_ST_por_ejercicio</th>\n",
       "    </tr>\n",
       "  </thead>\n",
       "  <tbody>\n",
       "    <tr>\n",
       "      <th>0</th>\n",
       "      <td>63</td>\n",
       "      <td>145</td>\n",
       "      <td>233</td>\n",
       "      <td>150</td>\n",
       "      <td>2.3</td>\n",
       "    </tr>\n",
       "    <tr>\n",
       "      <th>1</th>\n",
       "      <td>37</td>\n",
       "      <td>130</td>\n",
       "      <td>250</td>\n",
       "      <td>187</td>\n",
       "      <td>3.5</td>\n",
       "    </tr>\n",
       "    <tr>\n",
       "      <th>2</th>\n",
       "      <td>41</td>\n",
       "      <td>130</td>\n",
       "      <td>204</td>\n",
       "      <td>172</td>\n",
       "      <td>1.4</td>\n",
       "    </tr>\n",
       "    <tr>\n",
       "      <th>3</th>\n",
       "      <td>56</td>\n",
       "      <td>120</td>\n",
       "      <td>236</td>\n",
       "      <td>178</td>\n",
       "      <td>0.8</td>\n",
       "    </tr>\n",
       "    <tr>\n",
       "      <th>4</th>\n",
       "      <td>57</td>\n",
       "      <td>120</td>\n",
       "      <td>354</td>\n",
       "      <td>163</td>\n",
       "      <td>0.6</td>\n",
       "    </tr>\n",
       "  </tbody>\n",
       "</table>\n",
       "</div>"
      ],
      "text/plain": [
       "   edad  presion_arterial_reposo  colesterol  frecuencia_máxima  \\\n",
       "0    63                      145         233                150   \n",
       "1    37                      130         250                187   \n",
       "2    41                      130         204                172   \n",
       "3    56                      120         236                178   \n",
       "4    57                      120         354                163   \n",
       "\n",
       "   depresión_ST_por_ejercicio  \n",
       "0                         2.3  \n",
       "1                         3.5  \n",
       "2                         1.4  \n",
       "3                         0.8  \n",
       "4                         0.6  "
      ]
     },
     "execution_count": 48,
     "metadata": {},
     "output_type": "execute_result"
    }
   ],
   "source": [
    "df_var_con.head()"
   ]
  },
  {
   "cell_type": "code",
   "execution_count": 49,
   "id": "de3b8369",
   "metadata": {},
   "outputs": [
    {
     "data": {
      "text/plain": [
       "edad                            int64\n",
       "presion_arterial_reposo         int64\n",
       "colesterol                      int64\n",
       "frecuencia_máxima               int64\n",
       "depresión_ST_por_ejercicio    float64\n",
       "dtype: object"
      ]
     },
     "execution_count": 49,
     "metadata": {},
     "output_type": "execute_result"
    }
   ],
   "source": [
    "df_var_con.dtypes"
   ]
  },
  {
   "cell_type": "code",
   "execution_count": 50,
   "id": "eec223d5",
   "metadata": {},
   "outputs": [
    {
     "data": {
      "text/html": [
       "<div>\n",
       "<style scoped>\n",
       "    .dataframe tbody tr th:only-of-type {\n",
       "        vertical-align: middle;\n",
       "    }\n",
       "\n",
       "    .dataframe tbody tr th {\n",
       "        vertical-align: top;\n",
       "    }\n",
       "\n",
       "    .dataframe thead th {\n",
       "        text-align: right;\n",
       "    }\n",
       "</style>\n",
       "<table border=\"1\" class=\"dataframe\">\n",
       "  <thead>\n",
       "    <tr style=\"text-align: right;\">\n",
       "      <th></th>\n",
       "      <th>edad</th>\n",
       "      <th>presion_arterial_reposo</th>\n",
       "      <th>colesterol</th>\n",
       "      <th>frecuencia_máxima</th>\n",
       "      <th>depresión_ST_por_ejercicio</th>\n",
       "    </tr>\n",
       "  </thead>\n",
       "  <tbody>\n",
       "    <tr>\n",
       "      <th>edad</th>\n",
       "      <td>1.000</td>\n",
       "      <td>0.279</td>\n",
       "      <td>0.214</td>\n",
       "      <td>-0.399</td>\n",
       "      <td>0.210</td>\n",
       "    </tr>\n",
       "    <tr>\n",
       "      <th>presion_arterial_reposo</th>\n",
       "      <td>0.279</td>\n",
       "      <td>1.000</td>\n",
       "      <td>0.123</td>\n",
       "      <td>-0.047</td>\n",
       "      <td>0.193</td>\n",
       "    </tr>\n",
       "    <tr>\n",
       "      <th>colesterol</th>\n",
       "      <td>0.214</td>\n",
       "      <td>0.123</td>\n",
       "      <td>1.000</td>\n",
       "      <td>-0.010</td>\n",
       "      <td>0.054</td>\n",
       "    </tr>\n",
       "    <tr>\n",
       "      <th>frecuencia_máxima</th>\n",
       "      <td>-0.399</td>\n",
       "      <td>-0.047</td>\n",
       "      <td>-0.010</td>\n",
       "      <td>1.000</td>\n",
       "      <td>-0.344</td>\n",
       "    </tr>\n",
       "    <tr>\n",
       "      <th>depresión_ST_por_ejercicio</th>\n",
       "      <td>0.210</td>\n",
       "      <td>0.193</td>\n",
       "      <td>0.054</td>\n",
       "      <td>-0.344</td>\n",
       "      <td>1.000</td>\n",
       "    </tr>\n",
       "  </tbody>\n",
       "</table>\n",
       "</div>"
      ],
      "text/plain": [
       "                             edad  presion_arterial_reposo  colesterol  \\\n",
       "edad                        1.000                    0.279       0.214   \n",
       "presion_arterial_reposo     0.279                    1.000       0.123   \n",
       "colesterol                  0.214                    0.123       1.000   \n",
       "frecuencia_máxima          -0.399                   -0.047      -0.010   \n",
       "depresión_ST_por_ejercicio  0.210                    0.193       0.054   \n",
       "\n",
       "                            frecuencia_máxima  depresión_ST_por_ejercicio  \n",
       "edad                                   -0.399                       0.210  \n",
       "presion_arterial_reposo                -0.047                       0.193  \n",
       "colesterol                             -0.010                       0.054  \n",
       "frecuencia_máxima                       1.000                      -0.344  \n",
       "depresión_ST_por_ejercicio             -0.344                       1.000  "
      ]
     },
     "execution_count": 50,
     "metadata": {},
     "output_type": "execute_result"
    }
   ],
   "source": [
    "corr = df_var_con.corr().round(3)\n",
    "corr"
   ]
  },
  {
   "cell_type": "code",
   "execution_count": 51,
   "id": "b773c2f5",
   "metadata": {},
   "outputs": [
    {
     "data": {
      "text/html": [
       "<style  type=\"text/css\" >\n",
       "#T_d3af770a_d760_11eb_8f19_7c2a31a76e98row0_col0,#T_d3af770a_d760_11eb_8f19_7c2a31a76e98row1_col1,#T_d3af770a_d760_11eb_8f19_7c2a31a76e98row2_col2,#T_d3af770a_d760_11eb_8f19_7c2a31a76e98row3_col3,#T_d3af770a_d760_11eb_8f19_7c2a31a76e98row4_col4{\n",
       "            background-color:  #023858;\n",
       "            color:  #f1f1f1;\n",
       "        }#T_d3af770a_d760_11eb_8f19_7c2a31a76e98row0_col1{\n",
       "            background-color:  #bcc7e1;\n",
       "            color:  #000000;\n",
       "        }#T_d3af770a_d760_11eb_8f19_7c2a31a76e98row0_col2{\n",
       "            background-color:  #d7d6e9;\n",
       "            color:  #000000;\n",
       "        }#T_d3af770a_d760_11eb_8f19_7c2a31a76e98row0_col3,#T_d3af770a_d760_11eb_8f19_7c2a31a76e98row3_col0,#T_d3af770a_d760_11eb_8f19_7c2a31a76e98row3_col1,#T_d3af770a_d760_11eb_8f19_7c2a31a76e98row3_col2,#T_d3af770a_d760_11eb_8f19_7c2a31a76e98row3_col4{\n",
       "            background-color:  #fff7fb;\n",
       "            color:  #000000;\n",
       "        }#T_d3af770a_d760_11eb_8f19_7c2a31a76e98row0_col4{\n",
       "            background-color:  #97b7d7;\n",
       "            color:  #000000;\n",
       "        }#T_d3af770a_d760_11eb_8f19_7c2a31a76e98row1_col0{\n",
       "            background-color:  #79abd0;\n",
       "            color:  #000000;\n",
       "        }#T_d3af770a_d760_11eb_8f19_7c2a31a76e98row1_col2{\n",
       "            background-color:  #ebe6f2;\n",
       "            color:  #000000;\n",
       "        }#T_d3af770a_d760_11eb_8f19_7c2a31a76e98row1_col3{\n",
       "            background-color:  #d0d1e6;\n",
       "            color:  #000000;\n",
       "        }#T_d3af770a_d760_11eb_8f19_7c2a31a76e98row1_col4{\n",
       "            background-color:  #9cb9d9;\n",
       "            color:  #000000;\n",
       "        }#T_d3af770a_d760_11eb_8f19_7c2a31a76e98row2_col0{\n",
       "            background-color:  #8cb3d5;\n",
       "            color:  #000000;\n",
       "        }#T_d3af770a_d760_11eb_8f19_7c2a31a76e98row2_col1{\n",
       "            background-color:  #e4e1ef;\n",
       "            color:  #000000;\n",
       "        }#T_d3af770a_d760_11eb_8f19_7c2a31a76e98row2_col3{\n",
       "            background-color:  #c6cce3;\n",
       "            color:  #000000;\n",
       "        }#T_d3af770a_d760_11eb_8f19_7c2a31a76e98row2_col4{\n",
       "            background-color:  #c1cae2;\n",
       "            color:  #000000;\n",
       "        }#T_d3af770a_d760_11eb_8f19_7c2a31a76e98row4_col0{\n",
       "            background-color:  #8eb3d5;\n",
       "            color:  #000000;\n",
       "        }#T_d3af770a_d760_11eb_8f19_7c2a31a76e98row4_col1{\n",
       "            background-color:  #d5d5e8;\n",
       "            color:  #000000;\n",
       "        }#T_d3af770a_d760_11eb_8f19_7c2a31a76e98row4_col2{\n",
       "            background-color:  #f5eff6;\n",
       "            color:  #000000;\n",
       "        }#T_d3af770a_d760_11eb_8f19_7c2a31a76e98row4_col3{\n",
       "            background-color:  #f9f2f8;\n",
       "            color:  #000000;\n",
       "        }</style><table id=\"T_d3af770a_d760_11eb_8f19_7c2a31a76e98\" ><thead>    <tr>        <th class=\"blank level0\" ></th>        <th class=\"col_heading level0 col0\" >edad</th>        <th class=\"col_heading level0 col1\" >presion_arterial_reposo</th>        <th class=\"col_heading level0 col2\" >colesterol</th>        <th class=\"col_heading level0 col3\" >frecuencia_máxima</th>        <th class=\"col_heading level0 col4\" >depresión_ST_por_ejercicio</th>    </tr></thead><tbody>\n",
       "                <tr>\n",
       "                        <th id=\"T_d3af770a_d760_11eb_8f19_7c2a31a76e98level0_row0\" class=\"row_heading level0 row0\" >edad</th>\n",
       "                        <td id=\"T_d3af770a_d760_11eb_8f19_7c2a31a76e98row0_col0\" class=\"data row0 col0\" >1.000000</td>\n",
       "                        <td id=\"T_d3af770a_d760_11eb_8f19_7c2a31a76e98row0_col1\" class=\"data row0 col1\" >0.279000</td>\n",
       "                        <td id=\"T_d3af770a_d760_11eb_8f19_7c2a31a76e98row0_col2\" class=\"data row0 col2\" >0.214000</td>\n",
       "                        <td id=\"T_d3af770a_d760_11eb_8f19_7c2a31a76e98row0_col3\" class=\"data row0 col3\" >-0.399000</td>\n",
       "                        <td id=\"T_d3af770a_d760_11eb_8f19_7c2a31a76e98row0_col4\" class=\"data row0 col4\" >0.210000</td>\n",
       "            </tr>\n",
       "            <tr>\n",
       "                        <th id=\"T_d3af770a_d760_11eb_8f19_7c2a31a76e98level0_row1\" class=\"row_heading level0 row1\" >presion_arterial_reposo</th>\n",
       "                        <td id=\"T_d3af770a_d760_11eb_8f19_7c2a31a76e98row1_col0\" class=\"data row1 col0\" >0.279000</td>\n",
       "                        <td id=\"T_d3af770a_d760_11eb_8f19_7c2a31a76e98row1_col1\" class=\"data row1 col1\" >1.000000</td>\n",
       "                        <td id=\"T_d3af770a_d760_11eb_8f19_7c2a31a76e98row1_col2\" class=\"data row1 col2\" >0.123000</td>\n",
       "                        <td id=\"T_d3af770a_d760_11eb_8f19_7c2a31a76e98row1_col3\" class=\"data row1 col3\" >-0.047000</td>\n",
       "                        <td id=\"T_d3af770a_d760_11eb_8f19_7c2a31a76e98row1_col4\" class=\"data row1 col4\" >0.193000</td>\n",
       "            </tr>\n",
       "            <tr>\n",
       "                        <th id=\"T_d3af770a_d760_11eb_8f19_7c2a31a76e98level0_row2\" class=\"row_heading level0 row2\" >colesterol</th>\n",
       "                        <td id=\"T_d3af770a_d760_11eb_8f19_7c2a31a76e98row2_col0\" class=\"data row2 col0\" >0.214000</td>\n",
       "                        <td id=\"T_d3af770a_d760_11eb_8f19_7c2a31a76e98row2_col1\" class=\"data row2 col1\" >0.123000</td>\n",
       "                        <td id=\"T_d3af770a_d760_11eb_8f19_7c2a31a76e98row2_col2\" class=\"data row2 col2\" >1.000000</td>\n",
       "                        <td id=\"T_d3af770a_d760_11eb_8f19_7c2a31a76e98row2_col3\" class=\"data row2 col3\" >-0.010000</td>\n",
       "                        <td id=\"T_d3af770a_d760_11eb_8f19_7c2a31a76e98row2_col4\" class=\"data row2 col4\" >0.054000</td>\n",
       "            </tr>\n",
       "            <tr>\n",
       "                        <th id=\"T_d3af770a_d760_11eb_8f19_7c2a31a76e98level0_row3\" class=\"row_heading level0 row3\" >frecuencia_máxima</th>\n",
       "                        <td id=\"T_d3af770a_d760_11eb_8f19_7c2a31a76e98row3_col0\" class=\"data row3 col0\" >-0.399000</td>\n",
       "                        <td id=\"T_d3af770a_d760_11eb_8f19_7c2a31a76e98row3_col1\" class=\"data row3 col1\" >-0.047000</td>\n",
       "                        <td id=\"T_d3af770a_d760_11eb_8f19_7c2a31a76e98row3_col2\" class=\"data row3 col2\" >-0.010000</td>\n",
       "                        <td id=\"T_d3af770a_d760_11eb_8f19_7c2a31a76e98row3_col3\" class=\"data row3 col3\" >1.000000</td>\n",
       "                        <td id=\"T_d3af770a_d760_11eb_8f19_7c2a31a76e98row3_col4\" class=\"data row3 col4\" >-0.344000</td>\n",
       "            </tr>\n",
       "            <tr>\n",
       "                        <th id=\"T_d3af770a_d760_11eb_8f19_7c2a31a76e98level0_row4\" class=\"row_heading level0 row4\" >depresión_ST_por_ejercicio</th>\n",
       "                        <td id=\"T_d3af770a_d760_11eb_8f19_7c2a31a76e98row4_col0\" class=\"data row4 col0\" >0.210000</td>\n",
       "                        <td id=\"T_d3af770a_d760_11eb_8f19_7c2a31a76e98row4_col1\" class=\"data row4 col1\" >0.193000</td>\n",
       "                        <td id=\"T_d3af770a_d760_11eb_8f19_7c2a31a76e98row4_col2\" class=\"data row4 col2\" >0.054000</td>\n",
       "                        <td id=\"T_d3af770a_d760_11eb_8f19_7c2a31a76e98row4_col3\" class=\"data row4 col3\" >-0.344000</td>\n",
       "                        <td id=\"T_d3af770a_d760_11eb_8f19_7c2a31a76e98row4_col4\" class=\"data row4 col4\" >1.000000</td>\n",
       "            </tr>\n",
       "    </tbody></table>"
      ],
      "text/plain": [
       "<pandas.io.formats.style.Styler at 0x122df113be0>"
      ]
     },
     "execution_count": 51,
     "metadata": {},
     "output_type": "execute_result"
    }
   ],
   "source": [
    "corr.style.background_gradient()"
   ]
  },
  {
   "cell_type": "markdown",
   "id": "977c26fc",
   "metadata": {},
   "source": [
    "La matriz de correlación de las variables continuas muestra que no existe una correlación muy pronunciada entre ellas. Donde se aprecia una mayor correlación es entre la presión arterial y la edad (0.279), el colesterol con la edad (0.214) y la depresión en la onda ST inducida por el ejercicio con la edad (0.210)."
   ]
  },
  {
   "cell_type": "markdown",
   "id": "31335706",
   "metadata": {},
   "source": [
    "En resumen, no se presentan valores lo suficientemente elevados como para considerar una correlación fuerte entre variables. El factor más determinante e influyente de entre todas las variables es la edad de los pacientes."
   ]
  },
  {
   "cell_type": "markdown",
   "id": "b66f7828",
   "metadata": {},
   "source": [
    "# Preprocesado de los datos"
   ]
  },
  {
   "cell_type": "markdown",
   "id": "9fe7facb",
   "metadata": {},
   "source": [
    "Sería buena práctica realizar algún procesado de los datos para facilitar la ingesta en el modelo de machine learning. En particular, parecería acertado escalar los datos para tratar los valores atípicos (outliers) que se presentan."
   ]
  },
  {
   "cell_type": "markdown",
   "id": "ba820e13",
   "metadata": {},
   "source": [
    "En relación a las variables categóricas, sería necesario realizar la transformación de las mismas a variables dummy. Del mismo modo, siempre que exista colinealidad directa entre dichas variables dummy, habría que eliminar las que resultaran recurrentes. Un ejemplo de esto sería el sexo, si un paciente es hombre, por definición no podrá ser mujer, entonces el género quedaría totalmente definido con una única columna en lugar de con dos al llevarse a cabo la transformación a valores dummy (0 ó 1)."
   ]
  },
  {
   "cell_type": "markdown",
   "id": "10592d3c",
   "metadata": {},
   "source": [
    "Entediéndose la dimensión del Dataset como 2 (filas y columnas), no sería necesario ni posible reducir las dimensiones del mismo. Sin embargo, dado que parece que hay variables con mayor peso que otras, se podría estudiar el reducir aquellas categorías que fueran menos relevantes para el modelo (por ejemplo, aplicando feature importances)."
   ]
  },
  {
   "cell_type": "code",
   "execution_count": 52,
   "id": "b3da1a9e",
   "metadata": {},
   "outputs": [
    {
     "data": {
      "text/html": [
       "<div>\n",
       "<style scoped>\n",
       "    .dataframe tbody tr th:only-of-type {\n",
       "        vertical-align: middle;\n",
       "    }\n",
       "\n",
       "    .dataframe tbody tr th {\n",
       "        vertical-align: top;\n",
       "    }\n",
       "\n",
       "    .dataframe thead th {\n",
       "        text-align: right;\n",
       "    }\n",
       "</style>\n",
       "<table border=\"1\" class=\"dataframe\">\n",
       "  <thead>\n",
       "    <tr style=\"text-align: right;\">\n",
       "      <th></th>\n",
       "      <th>edad</th>\n",
       "      <th>sexo</th>\n",
       "      <th>dolor_pecho</th>\n",
       "      <th>presion_arterial_reposo</th>\n",
       "      <th>colesterol</th>\n",
       "      <th>azúcar_ayunas</th>\n",
       "      <th>electro_reposo</th>\n",
       "      <th>frecuencia_máxima</th>\n",
       "      <th>angina_por_ejercicio</th>\n",
       "      <th>depresión_ST_por_ejercicio</th>\n",
       "      <th>pendiente_ST_max_ejercicio</th>\n",
       "      <th>número_vasos</th>\n",
       "      <th>talio</th>\n",
       "      <th>resultado</th>\n",
       "    </tr>\n",
       "  </thead>\n",
       "  <tbody>\n",
       "    <tr>\n",
       "      <th>164</th>\n",
       "      <td>38</td>\n",
       "      <td>1</td>\n",
       "      <td>2</td>\n",
       "      <td>138</td>\n",
       "      <td>175</td>\n",
       "      <td>0</td>\n",
       "      <td>1</td>\n",
       "      <td>173</td>\n",
       "      <td>0</td>\n",
       "      <td>0.0</td>\n",
       "      <td>2</td>\n",
       "      <td>4</td>\n",
       "      <td>2</td>\n",
       "      <td>1</td>\n",
       "    </tr>\n",
       "  </tbody>\n",
       "</table>\n",
       "</div>"
      ],
      "text/plain": [
       "     edad  sexo  dolor_pecho  presion_arterial_reposo  colesterol  \\\n",
       "164    38     1            2                      138         175   \n",
       "\n",
       "     azúcar_ayunas  electro_reposo  frecuencia_máxima  angina_por_ejercicio  \\\n",
       "164              0               1                173                     0   \n",
       "\n",
       "     depresión_ST_por_ejercicio  pendiente_ST_max_ejercicio  número_vasos  \\\n",
       "164                         0.0                           2             4   \n",
       "\n",
       "     talio  resultado  \n",
       "164      2          1  "
      ]
     },
     "execution_count": 52,
     "metadata": {},
     "output_type": "execute_result"
    }
   ],
   "source": [
    "df[df.duplicated()]"
   ]
  },
  {
   "cell_type": "markdown",
   "id": "40008729",
   "metadata": {},
   "source": [
    "Revisando los posibles duplicados, comprobamos que contamos con una fila con información repetida. Procedemos a eliminarla:"
   ]
  },
  {
   "cell_type": "code",
   "execution_count": 53,
   "id": "f5dc2195",
   "metadata": {},
   "outputs": [],
   "source": [
    "df.drop_duplicates(keep='first',inplace=True)"
   ]
  },
  {
   "cell_type": "markdown",
   "id": "557ad864",
   "metadata": {},
   "source": [
    "Y comprobamos primeramente que, en efecto, tenemos una fila menos que inicialmente (302 filas) y que no contamos con duplicados:"
   ]
  },
  {
   "cell_type": "code",
   "execution_count": 54,
   "id": "8ad91cd6",
   "metadata": {},
   "outputs": [
    {
     "data": {
      "text/plain": [
       "(302, 14)"
      ]
     },
     "execution_count": 54,
     "metadata": {},
     "output_type": "execute_result"
    }
   ],
   "source": [
    "df.shape"
   ]
  },
  {
   "cell_type": "code",
   "execution_count": 55,
   "id": "fbc0b82c",
   "metadata": {},
   "outputs": [
    {
     "data": {
      "text/html": [
       "<div>\n",
       "<style scoped>\n",
       "    .dataframe tbody tr th:only-of-type {\n",
       "        vertical-align: middle;\n",
       "    }\n",
       "\n",
       "    .dataframe tbody tr th {\n",
       "        vertical-align: top;\n",
       "    }\n",
       "\n",
       "    .dataframe thead th {\n",
       "        text-align: right;\n",
       "    }\n",
       "</style>\n",
       "<table border=\"1\" class=\"dataframe\">\n",
       "  <thead>\n",
       "    <tr style=\"text-align: right;\">\n",
       "      <th></th>\n",
       "      <th>edad</th>\n",
       "      <th>sexo</th>\n",
       "      <th>dolor_pecho</th>\n",
       "      <th>presion_arterial_reposo</th>\n",
       "      <th>colesterol</th>\n",
       "      <th>azúcar_ayunas</th>\n",
       "      <th>electro_reposo</th>\n",
       "      <th>frecuencia_máxima</th>\n",
       "      <th>angina_por_ejercicio</th>\n",
       "      <th>depresión_ST_por_ejercicio</th>\n",
       "      <th>pendiente_ST_max_ejercicio</th>\n",
       "      <th>número_vasos</th>\n",
       "      <th>talio</th>\n",
       "      <th>resultado</th>\n",
       "    </tr>\n",
       "  </thead>\n",
       "  <tbody>\n",
       "  </tbody>\n",
       "</table>\n",
       "</div>"
      ],
      "text/plain": [
       "Empty DataFrame\n",
       "Columns: [edad, sexo, dolor_pecho, presion_arterial_reposo, colesterol, azúcar_ayunas, electro_reposo, frecuencia_máxima, angina_por_ejercicio, depresión_ST_por_ejercicio, pendiente_ST_max_ejercicio, número_vasos, talio, resultado]\n",
       "Index: []"
      ]
     },
     "execution_count": 55,
     "metadata": {},
     "output_type": "execute_result"
    }
   ],
   "source": [
    "df[df.duplicated()]"
   ]
  },
  {
   "cell_type": "markdown",
   "id": "14845e2a",
   "metadata": {},
   "source": [
    "Ahora debemos dividir los datos en x (variables predictorias) e y (la variable dependiente, a predecir)."
   ]
  },
  {
   "cell_type": "code",
   "execution_count": 56,
   "id": "ca915f58",
   "metadata": {},
   "outputs": [
    {
     "data": {
      "text/html": [
       "<div>\n",
       "<style scoped>\n",
       "    .dataframe tbody tr th:only-of-type {\n",
       "        vertical-align: middle;\n",
       "    }\n",
       "\n",
       "    .dataframe tbody tr th {\n",
       "        vertical-align: top;\n",
       "    }\n",
       "\n",
       "    .dataframe thead th {\n",
       "        text-align: right;\n",
       "    }\n",
       "</style>\n",
       "<table border=\"1\" class=\"dataframe\">\n",
       "  <thead>\n",
       "    <tr style=\"text-align: right;\">\n",
       "      <th></th>\n",
       "      <th>edad</th>\n",
       "      <th>sexo</th>\n",
       "      <th>dolor_pecho</th>\n",
       "      <th>presion_arterial_reposo</th>\n",
       "      <th>colesterol</th>\n",
       "      <th>azúcar_ayunas</th>\n",
       "      <th>electro_reposo</th>\n",
       "      <th>frecuencia_máxima</th>\n",
       "      <th>angina_por_ejercicio</th>\n",
       "      <th>depresión_ST_por_ejercicio</th>\n",
       "      <th>pendiente_ST_max_ejercicio</th>\n",
       "      <th>número_vasos</th>\n",
       "      <th>talio</th>\n",
       "    </tr>\n",
       "  </thead>\n",
       "  <tbody>\n",
       "    <tr>\n",
       "      <th>0</th>\n",
       "      <td>63</td>\n",
       "      <td>1</td>\n",
       "      <td>3</td>\n",
       "      <td>145</td>\n",
       "      <td>233</td>\n",
       "      <td>1</td>\n",
       "      <td>0</td>\n",
       "      <td>150</td>\n",
       "      <td>0</td>\n",
       "      <td>2.3</td>\n",
       "      <td>0</td>\n",
       "      <td>0</td>\n",
       "      <td>1</td>\n",
       "    </tr>\n",
       "    <tr>\n",
       "      <th>1</th>\n",
       "      <td>37</td>\n",
       "      <td>1</td>\n",
       "      <td>2</td>\n",
       "      <td>130</td>\n",
       "      <td>250</td>\n",
       "      <td>0</td>\n",
       "      <td>1</td>\n",
       "      <td>187</td>\n",
       "      <td>0</td>\n",
       "      <td>3.5</td>\n",
       "      <td>0</td>\n",
       "      <td>0</td>\n",
       "      <td>2</td>\n",
       "    </tr>\n",
       "    <tr>\n",
       "      <th>2</th>\n",
       "      <td>41</td>\n",
       "      <td>0</td>\n",
       "      <td>1</td>\n",
       "      <td>130</td>\n",
       "      <td>204</td>\n",
       "      <td>0</td>\n",
       "      <td>0</td>\n",
       "      <td>172</td>\n",
       "      <td>0</td>\n",
       "      <td>1.4</td>\n",
       "      <td>2</td>\n",
       "      <td>0</td>\n",
       "      <td>2</td>\n",
       "    </tr>\n",
       "    <tr>\n",
       "      <th>3</th>\n",
       "      <td>56</td>\n",
       "      <td>1</td>\n",
       "      <td>1</td>\n",
       "      <td>120</td>\n",
       "      <td>236</td>\n",
       "      <td>0</td>\n",
       "      <td>1</td>\n",
       "      <td>178</td>\n",
       "      <td>0</td>\n",
       "      <td>0.8</td>\n",
       "      <td>2</td>\n",
       "      <td>0</td>\n",
       "      <td>2</td>\n",
       "    </tr>\n",
       "    <tr>\n",
       "      <th>4</th>\n",
       "      <td>57</td>\n",
       "      <td>0</td>\n",
       "      <td>0</td>\n",
       "      <td>120</td>\n",
       "      <td>354</td>\n",
       "      <td>0</td>\n",
       "      <td>1</td>\n",
       "      <td>163</td>\n",
       "      <td>1</td>\n",
       "      <td>0.6</td>\n",
       "      <td>2</td>\n",
       "      <td>0</td>\n",
       "      <td>2</td>\n",
       "    </tr>\n",
       "  </tbody>\n",
       "</table>\n",
       "</div>"
      ],
      "text/plain": [
       "   edad  sexo  dolor_pecho  presion_arterial_reposo  colesterol  \\\n",
       "0    63     1            3                      145         233   \n",
       "1    37     1            2                      130         250   \n",
       "2    41     0            1                      130         204   \n",
       "3    56     1            1                      120         236   \n",
       "4    57     0            0                      120         354   \n",
       "\n",
       "   azúcar_ayunas  electro_reposo  frecuencia_máxima  angina_por_ejercicio  \\\n",
       "0              1               0                150                     0   \n",
       "1              0               1                187                     0   \n",
       "2              0               0                172                     0   \n",
       "3              0               1                178                     0   \n",
       "4              0               1                163                     1   \n",
       "\n",
       "   depresión_ST_por_ejercicio  pendiente_ST_max_ejercicio  número_vasos  talio  \n",
       "0                         2.3                           0             0      1  \n",
       "1                         3.5                           0             0      2  \n",
       "2                         1.4                           2             0      2  \n",
       "3                         0.8                           2             0      2  \n",
       "4                         0.6                           2             0      2  "
      ]
     },
     "execution_count": 56,
     "metadata": {},
     "output_type": "execute_result"
    }
   ],
   "source": [
    "x = df.drop('resultado', axis=1)\n",
    "x.head()"
   ]
  },
  {
   "cell_type": "code",
   "execution_count": 57,
   "id": "c6ef08ee",
   "metadata": {},
   "outputs": [
    {
     "data": {
      "text/html": [
       "<div>\n",
       "<style scoped>\n",
       "    .dataframe tbody tr th:only-of-type {\n",
       "        vertical-align: middle;\n",
       "    }\n",
       "\n",
       "    .dataframe tbody tr th {\n",
       "        vertical-align: top;\n",
       "    }\n",
       "\n",
       "    .dataframe thead th {\n",
       "        text-align: right;\n",
       "    }\n",
       "</style>\n",
       "<table border=\"1\" class=\"dataframe\">\n",
       "  <thead>\n",
       "    <tr style=\"text-align: right;\">\n",
       "      <th></th>\n",
       "      <th>resultado</th>\n",
       "    </tr>\n",
       "  </thead>\n",
       "  <tbody>\n",
       "    <tr>\n",
       "      <th>0</th>\n",
       "      <td>1</td>\n",
       "    </tr>\n",
       "    <tr>\n",
       "      <th>1</th>\n",
       "      <td>1</td>\n",
       "    </tr>\n",
       "    <tr>\n",
       "      <th>2</th>\n",
       "      <td>1</td>\n",
       "    </tr>\n",
       "    <tr>\n",
       "      <th>3</th>\n",
       "      <td>1</td>\n",
       "    </tr>\n",
       "    <tr>\n",
       "      <th>4</th>\n",
       "      <td>1</td>\n",
       "    </tr>\n",
       "  </tbody>\n",
       "</table>\n",
       "</div>"
      ],
      "text/plain": [
       "   resultado\n",
       "0          1\n",
       "1          1\n",
       "2          1\n",
       "3          1\n",
       "4          1"
      ]
     },
     "execution_count": 57,
     "metadata": {},
     "output_type": "execute_result"
    }
   ],
   "source": [
    "y = df[['resultado']]\n",
    "y.head()"
   ]
  },
  {
   "cell_type": "markdown",
   "id": "f40591f2",
   "metadata": {},
   "source": [
    "Realizamos una lista con las variables categóricas (nos va a simplificar la transformación a variables dummy):"
   ]
  },
  {
   "cell_type": "code",
   "execution_count": 58,
   "id": "646ecb68",
   "metadata": {},
   "outputs": [],
   "source": [
    "var_cat = ['sexo','dolor_pecho','azúcar_ayunas','electro_reposo','angina_por_ejercicio','pendiente_ST_max_ejercicio','número_vasos','talio']"
   ]
  },
  {
   "cell_type": "code",
   "execution_count": 59,
   "id": "6009ee60",
   "metadata": {},
   "outputs": [
    {
     "data": {
      "text/html": [
       "<div>\n",
       "<style scoped>\n",
       "    .dataframe tbody tr th:only-of-type {\n",
       "        vertical-align: middle;\n",
       "    }\n",
       "\n",
       "    .dataframe tbody tr th {\n",
       "        vertical-align: top;\n",
       "    }\n",
       "\n",
       "    .dataframe thead th {\n",
       "        text-align: right;\n",
       "    }\n",
       "</style>\n",
       "<table border=\"1\" class=\"dataframe\">\n",
       "  <thead>\n",
       "    <tr style=\"text-align: right;\">\n",
       "      <th></th>\n",
       "      <th>edad</th>\n",
       "      <th>presion_arterial_reposo</th>\n",
       "      <th>colesterol</th>\n",
       "      <th>frecuencia_máxima</th>\n",
       "      <th>depresión_ST_por_ejercicio</th>\n",
       "      <th>sexo_0</th>\n",
       "      <th>sexo_1</th>\n",
       "      <th>dolor_pecho_0</th>\n",
       "      <th>dolor_pecho_1</th>\n",
       "      <th>dolor_pecho_2</th>\n",
       "      <th>...</th>\n",
       "      <th>pendiente_ST_max_ejercicio_2</th>\n",
       "      <th>número_vasos_0</th>\n",
       "      <th>número_vasos_1</th>\n",
       "      <th>número_vasos_2</th>\n",
       "      <th>número_vasos_3</th>\n",
       "      <th>número_vasos_4</th>\n",
       "      <th>talio_0</th>\n",
       "      <th>talio_1</th>\n",
       "      <th>talio_2</th>\n",
       "      <th>talio_3</th>\n",
       "    </tr>\n",
       "  </thead>\n",
       "  <tbody>\n",
       "    <tr>\n",
       "      <th>0</th>\n",
       "      <td>63</td>\n",
       "      <td>145</td>\n",
       "      <td>233</td>\n",
       "      <td>150</td>\n",
       "      <td>2.3</td>\n",
       "      <td>0</td>\n",
       "      <td>1</td>\n",
       "      <td>0</td>\n",
       "      <td>0</td>\n",
       "      <td>0</td>\n",
       "      <td>...</td>\n",
       "      <td>0</td>\n",
       "      <td>1</td>\n",
       "      <td>0</td>\n",
       "      <td>0</td>\n",
       "      <td>0</td>\n",
       "      <td>0</td>\n",
       "      <td>0</td>\n",
       "      <td>1</td>\n",
       "      <td>0</td>\n",
       "      <td>0</td>\n",
       "    </tr>\n",
       "    <tr>\n",
       "      <th>1</th>\n",
       "      <td>37</td>\n",
       "      <td>130</td>\n",
       "      <td>250</td>\n",
       "      <td>187</td>\n",
       "      <td>3.5</td>\n",
       "      <td>0</td>\n",
       "      <td>1</td>\n",
       "      <td>0</td>\n",
       "      <td>0</td>\n",
       "      <td>1</td>\n",
       "      <td>...</td>\n",
       "      <td>0</td>\n",
       "      <td>1</td>\n",
       "      <td>0</td>\n",
       "      <td>0</td>\n",
       "      <td>0</td>\n",
       "      <td>0</td>\n",
       "      <td>0</td>\n",
       "      <td>0</td>\n",
       "      <td>1</td>\n",
       "      <td>0</td>\n",
       "    </tr>\n",
       "    <tr>\n",
       "      <th>2</th>\n",
       "      <td>41</td>\n",
       "      <td>130</td>\n",
       "      <td>204</td>\n",
       "      <td>172</td>\n",
       "      <td>1.4</td>\n",
       "      <td>1</td>\n",
       "      <td>0</td>\n",
       "      <td>0</td>\n",
       "      <td>1</td>\n",
       "      <td>0</td>\n",
       "      <td>...</td>\n",
       "      <td>1</td>\n",
       "      <td>1</td>\n",
       "      <td>0</td>\n",
       "      <td>0</td>\n",
       "      <td>0</td>\n",
       "      <td>0</td>\n",
       "      <td>0</td>\n",
       "      <td>0</td>\n",
       "      <td>1</td>\n",
       "      <td>0</td>\n",
       "    </tr>\n",
       "    <tr>\n",
       "      <th>3</th>\n",
       "      <td>56</td>\n",
       "      <td>120</td>\n",
       "      <td>236</td>\n",
       "      <td>178</td>\n",
       "      <td>0.8</td>\n",
       "      <td>0</td>\n",
       "      <td>1</td>\n",
       "      <td>0</td>\n",
       "      <td>1</td>\n",
       "      <td>0</td>\n",
       "      <td>...</td>\n",
       "      <td>1</td>\n",
       "      <td>1</td>\n",
       "      <td>0</td>\n",
       "      <td>0</td>\n",
       "      <td>0</td>\n",
       "      <td>0</td>\n",
       "      <td>0</td>\n",
       "      <td>0</td>\n",
       "      <td>1</td>\n",
       "      <td>0</td>\n",
       "    </tr>\n",
       "    <tr>\n",
       "      <th>4</th>\n",
       "      <td>57</td>\n",
       "      <td>120</td>\n",
       "      <td>354</td>\n",
       "      <td>163</td>\n",
       "      <td>0.6</td>\n",
       "      <td>1</td>\n",
       "      <td>0</td>\n",
       "      <td>1</td>\n",
       "      <td>0</td>\n",
       "      <td>0</td>\n",
       "      <td>...</td>\n",
       "      <td>1</td>\n",
       "      <td>1</td>\n",
       "      <td>0</td>\n",
       "      <td>0</td>\n",
       "      <td>0</td>\n",
       "      <td>0</td>\n",
       "      <td>0</td>\n",
       "      <td>0</td>\n",
       "      <td>1</td>\n",
       "      <td>0</td>\n",
       "    </tr>\n",
       "  </tbody>\n",
       "</table>\n",
       "<p>5 rows × 30 columns</p>\n",
       "</div>"
      ],
      "text/plain": [
       "   edad  presion_arterial_reposo  colesterol  frecuencia_máxima  \\\n",
       "0    63                      145         233                150   \n",
       "1    37                      130         250                187   \n",
       "2    41                      130         204                172   \n",
       "3    56                      120         236                178   \n",
       "4    57                      120         354                163   \n",
       "\n",
       "   depresión_ST_por_ejercicio  sexo_0  sexo_1  dolor_pecho_0  dolor_pecho_1  \\\n",
       "0                         2.3       0       1              0              0   \n",
       "1                         3.5       0       1              0              0   \n",
       "2                         1.4       1       0              0              1   \n",
       "3                         0.8       0       1              0              1   \n",
       "4                         0.6       1       0              1              0   \n",
       "\n",
       "   dolor_pecho_2  ...  pendiente_ST_max_ejercicio_2  número_vasos_0  \\\n",
       "0              0  ...                             0               1   \n",
       "1              1  ...                             0               1   \n",
       "2              0  ...                             1               1   \n",
       "3              0  ...                             1               1   \n",
       "4              0  ...                             1               1   \n",
       "\n",
       "   número_vasos_1  número_vasos_2  número_vasos_3  número_vasos_4  talio_0  \\\n",
       "0               0               0               0               0        0   \n",
       "1               0               0               0               0        0   \n",
       "2               0               0               0               0        0   \n",
       "3               0               0               0               0        0   \n",
       "4               0               0               0               0        0   \n",
       "\n",
       "   talio_1  talio_2  talio_3  \n",
       "0        1        0        0  \n",
       "1        0        1        0  \n",
       "2        0        1        0  \n",
       "3        0        1        0  \n",
       "4        0        1        0  \n",
       "\n",
       "[5 rows x 30 columns]"
      ]
     },
     "execution_count": 59,
     "metadata": {},
     "output_type": "execute_result"
    }
   ],
   "source": [
    "x_dummy = pd.get_dummies(x, columns = var_cat)\n",
    "x_dummy.head()"
   ]
  },
  {
   "cell_type": "markdown",
   "id": "8651e982",
   "metadata": {},
   "source": [
    "Pero como deseamos simplificar eliminando aquellas variables que presenten colinealidad directa, aplicamos el atributo drop_first = True, resultando:"
   ]
  },
  {
   "cell_type": "code",
   "execution_count": 60,
   "id": "811b030b",
   "metadata": {},
   "outputs": [
    {
     "data": {
      "text/html": [
       "<div>\n",
       "<style scoped>\n",
       "    .dataframe tbody tr th:only-of-type {\n",
       "        vertical-align: middle;\n",
       "    }\n",
       "\n",
       "    .dataframe tbody tr th {\n",
       "        vertical-align: top;\n",
       "    }\n",
       "\n",
       "    .dataframe thead th {\n",
       "        text-align: right;\n",
       "    }\n",
       "</style>\n",
       "<table border=\"1\" class=\"dataframe\">\n",
       "  <thead>\n",
       "    <tr style=\"text-align: right;\">\n",
       "      <th></th>\n",
       "      <th>edad</th>\n",
       "      <th>presion_arterial_reposo</th>\n",
       "      <th>colesterol</th>\n",
       "      <th>frecuencia_máxima</th>\n",
       "      <th>depresión_ST_por_ejercicio</th>\n",
       "      <th>sexo_1</th>\n",
       "      <th>dolor_pecho_1</th>\n",
       "      <th>dolor_pecho_2</th>\n",
       "      <th>dolor_pecho_3</th>\n",
       "      <th>azúcar_ayunas_1</th>\n",
       "      <th>...</th>\n",
       "      <th>angina_por_ejercicio_1</th>\n",
       "      <th>pendiente_ST_max_ejercicio_1</th>\n",
       "      <th>pendiente_ST_max_ejercicio_2</th>\n",
       "      <th>número_vasos_1</th>\n",
       "      <th>número_vasos_2</th>\n",
       "      <th>número_vasos_3</th>\n",
       "      <th>número_vasos_4</th>\n",
       "      <th>talio_1</th>\n",
       "      <th>talio_2</th>\n",
       "      <th>talio_3</th>\n",
       "    </tr>\n",
       "  </thead>\n",
       "  <tbody>\n",
       "    <tr>\n",
       "      <th>0</th>\n",
       "      <td>63</td>\n",
       "      <td>145</td>\n",
       "      <td>233</td>\n",
       "      <td>150</td>\n",
       "      <td>2.3</td>\n",
       "      <td>1</td>\n",
       "      <td>0</td>\n",
       "      <td>0</td>\n",
       "      <td>1</td>\n",
       "      <td>1</td>\n",
       "      <td>...</td>\n",
       "      <td>0</td>\n",
       "      <td>0</td>\n",
       "      <td>0</td>\n",
       "      <td>0</td>\n",
       "      <td>0</td>\n",
       "      <td>0</td>\n",
       "      <td>0</td>\n",
       "      <td>1</td>\n",
       "      <td>0</td>\n",
       "      <td>0</td>\n",
       "    </tr>\n",
       "    <tr>\n",
       "      <th>1</th>\n",
       "      <td>37</td>\n",
       "      <td>130</td>\n",
       "      <td>250</td>\n",
       "      <td>187</td>\n",
       "      <td>3.5</td>\n",
       "      <td>1</td>\n",
       "      <td>0</td>\n",
       "      <td>1</td>\n",
       "      <td>0</td>\n",
       "      <td>0</td>\n",
       "      <td>...</td>\n",
       "      <td>0</td>\n",
       "      <td>0</td>\n",
       "      <td>0</td>\n",
       "      <td>0</td>\n",
       "      <td>0</td>\n",
       "      <td>0</td>\n",
       "      <td>0</td>\n",
       "      <td>0</td>\n",
       "      <td>1</td>\n",
       "      <td>0</td>\n",
       "    </tr>\n",
       "    <tr>\n",
       "      <th>2</th>\n",
       "      <td>41</td>\n",
       "      <td>130</td>\n",
       "      <td>204</td>\n",
       "      <td>172</td>\n",
       "      <td>1.4</td>\n",
       "      <td>0</td>\n",
       "      <td>1</td>\n",
       "      <td>0</td>\n",
       "      <td>0</td>\n",
       "      <td>0</td>\n",
       "      <td>...</td>\n",
       "      <td>0</td>\n",
       "      <td>0</td>\n",
       "      <td>1</td>\n",
       "      <td>0</td>\n",
       "      <td>0</td>\n",
       "      <td>0</td>\n",
       "      <td>0</td>\n",
       "      <td>0</td>\n",
       "      <td>1</td>\n",
       "      <td>0</td>\n",
       "    </tr>\n",
       "    <tr>\n",
       "      <th>3</th>\n",
       "      <td>56</td>\n",
       "      <td>120</td>\n",
       "      <td>236</td>\n",
       "      <td>178</td>\n",
       "      <td>0.8</td>\n",
       "      <td>1</td>\n",
       "      <td>1</td>\n",
       "      <td>0</td>\n",
       "      <td>0</td>\n",
       "      <td>0</td>\n",
       "      <td>...</td>\n",
       "      <td>0</td>\n",
       "      <td>0</td>\n",
       "      <td>1</td>\n",
       "      <td>0</td>\n",
       "      <td>0</td>\n",
       "      <td>0</td>\n",
       "      <td>0</td>\n",
       "      <td>0</td>\n",
       "      <td>1</td>\n",
       "      <td>0</td>\n",
       "    </tr>\n",
       "    <tr>\n",
       "      <th>4</th>\n",
       "      <td>57</td>\n",
       "      <td>120</td>\n",
       "      <td>354</td>\n",
       "      <td>163</td>\n",
       "      <td>0.6</td>\n",
       "      <td>0</td>\n",
       "      <td>0</td>\n",
       "      <td>0</td>\n",
       "      <td>0</td>\n",
       "      <td>0</td>\n",
       "      <td>...</td>\n",
       "      <td>1</td>\n",
       "      <td>0</td>\n",
       "      <td>1</td>\n",
       "      <td>0</td>\n",
       "      <td>0</td>\n",
       "      <td>0</td>\n",
       "      <td>0</td>\n",
       "      <td>0</td>\n",
       "      <td>1</td>\n",
       "      <td>0</td>\n",
       "    </tr>\n",
       "  </tbody>\n",
       "</table>\n",
       "<p>5 rows × 22 columns</p>\n",
       "</div>"
      ],
      "text/plain": [
       "   edad  presion_arterial_reposo  colesterol  frecuencia_máxima  \\\n",
       "0    63                      145         233                150   \n",
       "1    37                      130         250                187   \n",
       "2    41                      130         204                172   \n",
       "3    56                      120         236                178   \n",
       "4    57                      120         354                163   \n",
       "\n",
       "   depresión_ST_por_ejercicio  sexo_1  dolor_pecho_1  dolor_pecho_2  \\\n",
       "0                         2.3       1              0              0   \n",
       "1                         3.5       1              0              1   \n",
       "2                         1.4       0              1              0   \n",
       "3                         0.8       1              1              0   \n",
       "4                         0.6       0              0              0   \n",
       "\n",
       "   dolor_pecho_3  azúcar_ayunas_1  ...  angina_por_ejercicio_1  \\\n",
       "0              1                1  ...                       0   \n",
       "1              0                0  ...                       0   \n",
       "2              0                0  ...                       0   \n",
       "3              0                0  ...                       0   \n",
       "4              0                0  ...                       1   \n",
       "\n",
       "   pendiente_ST_max_ejercicio_1  pendiente_ST_max_ejercicio_2  número_vasos_1  \\\n",
       "0                             0                             0               0   \n",
       "1                             0                             0               0   \n",
       "2                             0                             1               0   \n",
       "3                             0                             1               0   \n",
       "4                             0                             1               0   \n",
       "\n",
       "   número_vasos_2  número_vasos_3  número_vasos_4  talio_1  talio_2  talio_3  \n",
       "0               0               0               0        1        0        0  \n",
       "1               0               0               0        0        1        0  \n",
       "2               0               0               0        0        1        0  \n",
       "3               0               0               0        0        1        0  \n",
       "4               0               0               0        0        1        0  \n",
       "\n",
       "[5 rows x 22 columns]"
      ]
     },
     "execution_count": 60,
     "metadata": {},
     "output_type": "execute_result"
    }
   ],
   "source": [
    "x_dummy = pd.get_dummies(x, columns = var_cat, drop_first = True)\n",
    "x_dummy.head()"
   ]
  },
  {
   "cell_type": "markdown",
   "id": "196dc67b",
   "metadata": {},
   "source": [
    "Obsérvese como pasamos de contar con 30 columnas a 22."
   ]
  },
  {
   "cell_type": "markdown",
   "id": "ec343868",
   "metadata": {},
   "source": [
    "A continuación, deberemos dividir los datos x e y en datos de entrenamiento (train) y de testeo (test) respectivamente. Para ello, aplicamos el siguiente método contenido en scikit-learn:"
   ]
  },
  {
   "cell_type": "code",
   "execution_count": 61,
   "id": "f571fd2c",
   "metadata": {},
   "outputs": [],
   "source": [
    "x_train, x_test, y_train, y_test = train_test_split(x_dummy, y, test_size = 0.2)"
   ]
  },
  {
   "cell_type": "markdown",
   "id": "f2a7cc0d",
   "metadata": {},
   "source": [
    "Con estos pasos hemos preprocesado los datos, eliminando duplicados y transformando las variables categóricas a variables dummy interpretables por nuestros modelos predictivos. Adicionalmente, se han divido los datos en train y test."
   ]
  },
  {
   "cell_type": "markdown",
   "id": "97a051c2",
   "metadata": {},
   "source": [
    "# Entrenando los modelos predictivos"
   ]
  },
  {
   "cell_type": "markdown",
   "id": "b21950f7",
   "metadata": {},
   "source": [
    "## Árboles de decisión"
   ]
  },
  {
   "cell_type": "markdown",
   "id": "31dd5047",
   "metadata": {},
   "source": [
    "En este primer apartado, estudiaremos las predicciones obtenidas a través del modelo de árboles de decisión."
   ]
  },
  {
   "cell_type": "markdown",
   "id": "b5c8dfac",
   "metadata": {},
   "source": [
    "Instanciamos el modelo predictivo:"
   ]
  },
  {
   "cell_type": "code",
   "execution_count": 62,
   "id": "8d6bbb2f",
   "metadata": {},
   "outputs": [],
   "source": [
    "dtc = DecisionTreeClassifier()"
   ]
  },
  {
   "cell_type": "markdown",
   "id": "d51e2668",
   "metadata": {},
   "source": [
    "Lo ajustamos con los datos de entrenamiento con que contamos:"
   ]
  },
  {
   "cell_type": "code",
   "execution_count": 63,
   "id": "846b2ae6",
   "metadata": {},
   "outputs": [
    {
     "data": {
      "text/plain": [
       "DecisionTreeClassifier()"
      ]
     },
     "execution_count": 63,
     "metadata": {},
     "output_type": "execute_result"
    }
   ],
   "source": [
    "dtc.fit(x_train, y_train)"
   ]
  },
  {
   "cell_type": "markdown",
   "id": "76490502",
   "metadata": {},
   "source": [
    "Y realizamos las predicciones a través de los datos de testeo:"
   ]
  },
  {
   "cell_type": "code",
   "execution_count": 64,
   "id": "41951f40",
   "metadata": {},
   "outputs": [],
   "source": [
    "predicciones_dtc = dtc.predict(x_test)"
   ]
  },
  {
   "cell_type": "code",
   "execution_count": 65,
   "id": "24586710",
   "metadata": {},
   "outputs": [
    {
     "data": {
      "text/plain": [
       "array([1, 0, 0, 1, 0, 0, 0, 0, 1, 0, 0, 1, 0, 1, 1, 1, 0, 1, 1, 0, 1, 1,\n",
       "       0, 1, 1, 0, 0, 1, 1, 0, 1, 0, 0, 0, 1, 1, 0, 1, 0, 1, 0, 1, 1, 0,\n",
       "       0, 0, 0, 1, 0, 0, 1, 1, 0, 1, 0, 1, 0, 1, 1, 0, 1], dtype=int64)"
      ]
     },
     "execution_count": 65,
     "metadata": {},
     "output_type": "execute_result"
    }
   ],
   "source": [
    "predicciones_dtc"
   ]
  },
  {
   "cell_type": "markdown",
   "id": "df1eeccf",
   "metadata": {},
   "source": [
    "Ahora comprobaremos lo eficaz que resulta este modelo predictivo. Para ello haremos uso del reporte de clasificación:"
   ]
  },
  {
   "cell_type": "code",
   "execution_count": 66,
   "id": "1af4b573",
   "metadata": {},
   "outputs": [
    {
     "name": "stdout",
     "output_type": "stream",
     "text": [
      "              precision    recall  f1-score   support\n",
      "\n",
      "           0       0.74      0.79      0.77        29\n",
      "           1       0.80      0.75      0.77        32\n",
      "\n",
      "    accuracy                           0.77        61\n",
      "   macro avg       0.77      0.77      0.77        61\n",
      "weighted avg       0.77      0.77      0.77        61\n",
      "\n"
     ]
    }
   ],
   "source": [
    "print(classification_report(y_test, predicciones_dtc))"
   ]
  },
  {
   "cell_type": "markdown",
   "id": "2d2c9dfc",
   "metadata": {},
   "source": [
    "Los valores de precisión obtenidos son algo bajos, contando con un 74% de acierto en los casos en que hay menos probabilidad de ataque al corazón (valor de la variable \"resultado\" = 0), y con un 80% de acierto para los supuestos en los que hay alta probabilidad de sufrir un infarto (valor de la variable \"resultado\" = 1)."
   ]
  },
  {
   "cell_type": "markdown",
   "id": "625e7caa",
   "metadata": {},
   "source": [
    "Vamos a ver cómo quedaría la matriz de confusión:"
   ]
  },
  {
   "cell_type": "code",
   "execution_count": 67,
   "id": "4e4ac3e8",
   "metadata": {},
   "outputs": [
    {
     "name": "stdout",
     "output_type": "stream",
     "text": [
      "[[23  6]\n",
      " [ 8 24]]\n"
     ]
    }
   ],
   "source": [
    "print(confusion_matrix(y_test, predicciones_dtc))"
   ]
  },
  {
   "cell_type": "markdown",
   "id": "bb82a2fc",
   "metadata": {},
   "source": [
    "Se comprueba que se obtienen 23 verdaderos positivos y 24 verdaderos negativos."
   ]
  },
  {
   "cell_type": "markdown",
   "id": "193909da",
   "metadata": {},
   "source": [
    "## Máquinas de soporte de vectores"
   ]
  },
  {
   "cell_type": "markdown",
   "id": "1a3bde41",
   "metadata": {},
   "source": [
    "En este segundo apartado, estudiaremos las predicciones obtenidas a través del modelo de máquinas de soporte de vectores."
   ]
  },
  {
   "cell_type": "markdown",
   "id": "c4fdc8cf",
   "metadata": {},
   "source": [
    "Instanciamos el modelo predictivo:"
   ]
  },
  {
   "cell_type": "code",
   "execution_count": 68,
   "id": "36994b41",
   "metadata": {},
   "outputs": [],
   "source": [
    "svm = SVC(kernel = 'linear')"
   ]
  },
  {
   "cell_type": "markdown",
   "id": "4dc36786",
   "metadata": {},
   "source": [
    "Lo ajustamos con los datos de entrenamiento con que contamos:"
   ]
  },
  {
   "cell_type": "code",
   "execution_count": 69,
   "id": "5502bac6",
   "metadata": {},
   "outputs": [
    {
     "name": "stderr",
     "output_type": "stream",
     "text": [
      "C:\\Users\\usuario\\anaconda3\\envs\\aepi\\lib\\site-packages\\sklearn\\utils\\validation.py:63: DataConversionWarning: A column-vector y was passed when a 1d array was expected. Please change the shape of y to (n_samples, ), for example using ravel().\n",
      "  return f(*args, **kwargs)\n"
     ]
    },
    {
     "data": {
      "text/plain": [
       "SVC(kernel='linear')"
      ]
     },
     "execution_count": 69,
     "metadata": {},
     "output_type": "execute_result"
    }
   ],
   "source": [
    "svm.fit(x_train, y_train)"
   ]
  },
  {
   "cell_type": "markdown",
   "id": "63fc1776",
   "metadata": {},
   "source": [
    "Y realizamos las predicciones a través de los datos de testeo:"
   ]
  },
  {
   "cell_type": "code",
   "execution_count": 70,
   "id": "b3b51fac",
   "metadata": {},
   "outputs": [],
   "source": [
    "predicciones_svm = svm.predict(x_test)"
   ]
  },
  {
   "cell_type": "code",
   "execution_count": 71,
   "id": "846bc692",
   "metadata": {},
   "outputs": [
    {
     "data": {
      "text/plain": [
       "array([1, 0, 0, 1, 0, 0, 1, 0, 1, 0, 0, 1, 0, 1, 1, 1, 0, 1, 1, 0, 1, 1,\n",
       "       1, 1, 1, 0, 1, 1, 1, 0, 0, 0, 0, 0, 1, 0, 0, 1, 1, 1, 0, 1, 1, 0,\n",
       "       0, 0, 0, 1, 0, 0, 1, 1, 0, 1, 1, 0, 1, 1, 1, 0, 1], dtype=int64)"
      ]
     },
     "execution_count": 71,
     "metadata": {},
     "output_type": "execute_result"
    }
   ],
   "source": [
    "predicciones_svm"
   ]
  },
  {
   "cell_type": "markdown",
   "id": "e85f35f6",
   "metadata": {},
   "source": [
    "Ahora comprobaremos lo eficaz que resulta este modelo predictivo. Para ello haremos uso del reporte de clasificación:"
   ]
  },
  {
   "cell_type": "code",
   "execution_count": 72,
   "id": "5aca9ef6",
   "metadata": {},
   "outputs": [
    {
     "name": "stdout",
     "output_type": "stream",
     "text": [
      "              precision    recall  f1-score   support\n",
      "\n",
      "           0       0.86      0.83      0.84        29\n",
      "           1       0.85      0.88      0.86        32\n",
      "\n",
      "    accuracy                           0.85        61\n",
      "   macro avg       0.85      0.85      0.85        61\n",
      "weighted avg       0.85      0.85      0.85        61\n",
      "\n"
     ]
    }
   ],
   "source": [
    "print(classification_report(y_test, predicciones_svm))"
   ]
  },
  {
   "cell_type": "markdown",
   "id": "ff4147a5",
   "metadata": {},
   "source": [
    "Los valores de precisión obtenidos son mejores a los obtenidos en el apartado anterior, contando con un 86% de acierto en los casos en que hay menos probabilidad de ataque al corazón (valor de la variable \"resultado\" = 0), y con un 85% de acierto para los supuestos en los que hay alta probabilidad de sufrir un infarto (valor de la variable \"resultado\" = 1)."
   ]
  },
  {
   "cell_type": "markdown",
   "id": "250faa4f",
   "metadata": {},
   "source": [
    "Vamos a ver cómo quedaría la matriz de confusión:"
   ]
  },
  {
   "cell_type": "code",
   "execution_count": 73,
   "id": "cf7e1438",
   "metadata": {},
   "outputs": [
    {
     "name": "stdout",
     "output_type": "stream",
     "text": [
      "[[24  5]\n",
      " [ 4 28]]\n"
     ]
    }
   ],
   "source": [
    "print(confusion_matrix(y_test, predicciones_svm))"
   ]
  },
  {
   "cell_type": "markdown",
   "id": "1cbfe700",
   "metadata": {},
   "source": [
    "Se comprueba que se obtienen 24 verdaderos positivos y 28 verdaderos negativos."
   ]
  },
  {
   "cell_type": "markdown",
   "id": "bc4b70cc",
   "metadata": {},
   "source": [
    "Hasta este punto, podemos concluir que resulta más efectivo el método de predicción a través de máquinas de soporte de vectores que el método de árboles de decisión."
   ]
  },
  {
   "cell_type": "markdown",
   "id": "1be445cf",
   "metadata": {},
   "source": [
    "# Optimización de parámetros"
   ]
  },
  {
   "cell_type": "markdown",
   "id": "32c75712",
   "metadata": {},
   "source": [
    "Veamos qué resultados podemos llegar a obtener si optimizamos la variables de entrada en los modelos predictivos."
   ]
  },
  {
   "cell_type": "markdown",
   "id": "f0c07aab",
   "metadata": {},
   "source": [
    "Primero de todo, vamos a determinar qué variables tienen más peso para los modelos predictivos, con objeto de simplificar y reducir la cantidad de variables a introducir antes de llevar a cabo el entrenamiento de los datos. Para ello haremos uso del método \"feature_importances\":"
   ]
  },
  {
   "cell_type": "markdown",
   "id": "6e36fe34",
   "metadata": {},
   "source": [
    "## Árboles de decisión"
   ]
  },
  {
   "cell_type": "code",
   "execution_count": 74,
   "id": "2c5f0958",
   "metadata": {},
   "outputs": [
    {
     "data": {
      "text/plain": [
       "0.7704918032786885"
      ]
     },
     "execution_count": 74,
     "metadata": {},
     "output_type": "execute_result"
    }
   ],
   "source": [
    "accuracy_score(y_test, predicciones_dtc)"
   ]
  },
  {
   "cell_type": "code",
   "execution_count": 75,
   "id": "6dc5dca9",
   "metadata": {},
   "outputs": [],
   "source": [
    "dtc_feat_imp = pd.DataFrame(dtc.feature_importances_,\n",
    "                index = x_train.columns,\n",
    "                columns = ['importancia']).sort_values('importancia', ascending = False)"
   ]
  },
  {
   "cell_type": "code",
   "execution_count": 76,
   "id": "2425307f",
   "metadata": {},
   "outputs": [
    {
     "data": {
      "text/html": [
       "<div>\n",
       "<style scoped>\n",
       "    .dataframe tbody tr th:only-of-type {\n",
       "        vertical-align: middle;\n",
       "    }\n",
       "\n",
       "    .dataframe tbody tr th {\n",
       "        vertical-align: top;\n",
       "    }\n",
       "\n",
       "    .dataframe thead th {\n",
       "        text-align: right;\n",
       "    }\n",
       "</style>\n",
       "<table border=\"1\" class=\"dataframe\">\n",
       "  <thead>\n",
       "    <tr style=\"text-align: right;\">\n",
       "      <th></th>\n",
       "      <th>importancia</th>\n",
       "    </tr>\n",
       "  </thead>\n",
       "  <tbody>\n",
       "    <tr>\n",
       "      <th>talio_2</th>\n",
       "      <td>0.247504</td>\n",
       "    </tr>\n",
       "    <tr>\n",
       "      <th>edad</th>\n",
       "      <td>0.145513</td>\n",
       "    </tr>\n",
       "    <tr>\n",
       "      <th>depresión_ST_por_ejercicio</th>\n",
       "      <td>0.139792</td>\n",
       "    </tr>\n",
       "    <tr>\n",
       "      <th>frecuencia_máxima</th>\n",
       "      <td>0.131635</td>\n",
       "    </tr>\n",
       "    <tr>\n",
       "      <th>colesterol</th>\n",
       "      <td>0.107080</td>\n",
       "    </tr>\n",
       "    <tr>\n",
       "      <th>sexo_1</th>\n",
       "      <td>0.057774</td>\n",
       "    </tr>\n",
       "    <tr>\n",
       "      <th>presion_arterial_reposo</th>\n",
       "      <td>0.039673</td>\n",
       "    </tr>\n",
       "    <tr>\n",
       "      <th>dolor_pecho_2</th>\n",
       "      <td>0.033523</td>\n",
       "    </tr>\n",
       "    <tr>\n",
       "      <th>dolor_pecho_3</th>\n",
       "      <td>0.030899</td>\n",
       "    </tr>\n",
       "    <tr>\n",
       "      <th>número_vasos_1</th>\n",
       "      <td>0.019638</td>\n",
       "    </tr>\n",
       "    <tr>\n",
       "      <th>número_vasos_2</th>\n",
       "      <td>0.014955</td>\n",
       "    </tr>\n",
       "    <tr>\n",
       "      <th>talio_1</th>\n",
       "      <td>0.013400</td>\n",
       "    </tr>\n",
       "    <tr>\n",
       "      <th>electro_reposo_1</th>\n",
       "      <td>0.011911</td>\n",
       "    </tr>\n",
       "    <tr>\n",
       "      <th>número_vasos_3</th>\n",
       "      <td>0.006700</td>\n",
       "    </tr>\n",
       "    <tr>\n",
       "      <th>número_vasos_4</th>\n",
       "      <td>0.000000</td>\n",
       "    </tr>\n",
       "    <tr>\n",
       "      <th>electro_reposo_2</th>\n",
       "      <td>0.000000</td>\n",
       "    </tr>\n",
       "    <tr>\n",
       "      <th>pendiente_ST_max_ejercicio_2</th>\n",
       "      <td>0.000000</td>\n",
       "    </tr>\n",
       "    <tr>\n",
       "      <th>pendiente_ST_max_ejercicio_1</th>\n",
       "      <td>0.000000</td>\n",
       "    </tr>\n",
       "    <tr>\n",
       "      <th>angina_por_ejercicio_1</th>\n",
       "      <td>0.000000</td>\n",
       "    </tr>\n",
       "    <tr>\n",
       "      <th>azúcar_ayunas_1</th>\n",
       "      <td>0.000000</td>\n",
       "    </tr>\n",
       "    <tr>\n",
       "      <th>dolor_pecho_1</th>\n",
       "      <td>0.000000</td>\n",
       "    </tr>\n",
       "    <tr>\n",
       "      <th>talio_3</th>\n",
       "      <td>0.000000</td>\n",
       "    </tr>\n",
       "  </tbody>\n",
       "</table>\n",
       "</div>"
      ],
      "text/plain": [
       "                              importancia\n",
       "talio_2                          0.247504\n",
       "edad                             0.145513\n",
       "depresión_ST_por_ejercicio       0.139792\n",
       "frecuencia_máxima                0.131635\n",
       "colesterol                       0.107080\n",
       "sexo_1                           0.057774\n",
       "presion_arterial_reposo          0.039673\n",
       "dolor_pecho_2                    0.033523\n",
       "dolor_pecho_3                    0.030899\n",
       "número_vasos_1                   0.019638\n",
       "número_vasos_2                   0.014955\n",
       "talio_1                          0.013400\n",
       "electro_reposo_1                 0.011911\n",
       "número_vasos_3                   0.006700\n",
       "número_vasos_4                   0.000000\n",
       "electro_reposo_2                 0.000000\n",
       "pendiente_ST_max_ejercicio_2     0.000000\n",
       "pendiente_ST_max_ejercicio_1     0.000000\n",
       "angina_por_ejercicio_1           0.000000\n",
       "azúcar_ayunas_1                  0.000000\n",
       "dolor_pecho_1                    0.000000\n",
       "talio_3                          0.000000"
      ]
     },
     "execution_count": 76,
     "metadata": {},
     "output_type": "execute_result"
    }
   ],
   "source": [
    "dtc_feat_imp"
   ]
  },
  {
   "cell_type": "markdown",
   "id": "194b8cb9",
   "metadata": {},
   "source": [
    "Nota: las variables se ordenan de mayor a menor importancia a través de la instancia\n",
    "“.sort_values(‘importancia’, ascending=False)”."
   ]
  },
  {
   "cell_type": "markdown",
   "id": "42f8985d",
   "metadata": {},
   "source": [
    "Ahora es el momento de llevar a cabo las predicciones considerando de forma iterativa cada una\n",
    "de estas características. Es decir, se realiza una primera predicción contando únicamente con la\n",
    "variable \"talio_2\". Después, se obtiene la predicción considerando las dos primeras variables (\"talio_2\" y\n",
    "\"depresión_ST_por_ejercicio\"), pasando posteriormente a ejecutarse la predicción añadiendo secuencialmente una a una\n",
    "cada una de las variables restantes. Por último, se devolverá por pantalla la puntuación de las\n",
    "precisiones obtenidas a través del método accuracy_score."
   ]
  },
  {
   "cell_type": "code",
   "execution_count": 77,
   "id": "1bed407a",
   "metadata": {},
   "outputs": [
    {
     "data": {
      "text/plain": [
       "22"
      ]
     },
     "execution_count": 77,
     "metadata": {},
     "output_type": "execute_result"
    }
   ],
   "source": [
    "dtc_feat_imp.size"
   ]
  },
  {
   "cell_type": "code",
   "execution_count": 78,
   "id": "dcfbf761",
   "metadata": {},
   "outputs": [],
   "source": [
    "range_features = range(1,23)"
   ]
  },
  {
   "cell_type": "markdown",
   "id": "4f340a24",
   "metadata": {},
   "source": [
    "Creamos una función que irá rellenando de forma iterativa una lista vacía donde se irán almacenando las puntuaciones de nuestro modelo en base a las categorías que vayan incluyéndose:"
   ]
  },
  {
   "cell_type": "code",
   "execution_count": 79,
   "id": "907d9f66",
   "metadata": {},
   "outputs": [],
   "source": [
    "def puntuaciones_mayores(n):\n",
    "    dtc = DecisionTreeClassifier()\n",
    "    dtc.fit(x_train[list(dtc_feat_imp.index[:n])], y_train)\n",
    "    predicciones_dtc = dtc.predict(x_test[list(dtc_feat_imp.index[:n])])\n",
    "    return accuracy_score(y_test, predicciones_dtc)"
   ]
  },
  {
   "cell_type": "code",
   "execution_count": 80,
   "id": "de716b26",
   "metadata": {},
   "outputs": [],
   "source": [
    "accuracy_scores = []"
   ]
  },
  {
   "cell_type": "code",
   "execution_count": 81,
   "id": "78c836b9",
   "metadata": {},
   "outputs": [],
   "source": [
    "for n in range_features:\n",
    "    precision_actual = puntuaciones_mayores(n)\n",
    "    accuracy_scores.append(precision_actual)"
   ]
  },
  {
   "cell_type": "code",
   "execution_count": 82,
   "id": "6973ad7b",
   "metadata": {},
   "outputs": [
    {
     "data": {
      "text/plain": [
       "[0.819672131147541,\n",
       " 0.6885245901639344,\n",
       " 0.6885245901639344,\n",
       " 0.7704918032786885,\n",
       " 0.7213114754098361,\n",
       " 0.6885245901639344,\n",
       " 0.7868852459016393,\n",
       " 0.819672131147541,\n",
       " 0.8360655737704918,\n",
       " 0.7377049180327869,\n",
       " 0.8032786885245902,\n",
       " 0.7704918032786885,\n",
       " 0.7704918032786885,\n",
       " 0.7704918032786885,\n",
       " 0.7868852459016393,\n",
       " 0.7704918032786885,\n",
       " 0.7704918032786885,\n",
       " 0.7704918032786885,\n",
       " 0.7868852459016393,\n",
       " 0.7704918032786885,\n",
       " 0.7704918032786885,\n",
       " 0.7704918032786885]"
      ]
     },
     "execution_count": 82,
     "metadata": {},
     "output_type": "execute_result"
    }
   ],
   "source": [
    "accuracy_scores"
   ]
  },
  {
   "cell_type": "markdown",
   "id": "eed4479a",
   "metadata": {},
   "source": [
    "Se observa que el mejor valor de precisión se consigue considerando las 9 primeras variables (0.836). Procedemos a suprimir de x_dummy las variables \"despreciables\":"
   ]
  },
  {
   "cell_type": "code",
   "execution_count": 84,
   "id": "03920108",
   "metadata": {},
   "outputs": [
    {
     "data": {
      "text/html": [
       "<div>\n",
       "<style scoped>\n",
       "    .dataframe tbody tr th:only-of-type {\n",
       "        vertical-align: middle;\n",
       "    }\n",
       "\n",
       "    .dataframe tbody tr th {\n",
       "        vertical-align: top;\n",
       "    }\n",
       "\n",
       "    .dataframe thead th {\n",
       "        text-align: right;\n",
       "    }\n",
       "</style>\n",
       "<table border=\"1\" class=\"dataframe\">\n",
       "  <thead>\n",
       "    <tr style=\"text-align: right;\">\n",
       "      <th></th>\n",
       "      <th>edad</th>\n",
       "      <th>presion_arterial_reposo</th>\n",
       "      <th>colesterol</th>\n",
       "      <th>frecuencia_máxima</th>\n",
       "      <th>depresión_ST_por_ejercicio</th>\n",
       "      <th>sexo_1</th>\n",
       "      <th>dolor_pecho_2</th>\n",
       "      <th>dolor_pecho_3</th>\n",
       "      <th>talio_2</th>\n",
       "    </tr>\n",
       "  </thead>\n",
       "  <tbody>\n",
       "    <tr>\n",
       "      <th>0</th>\n",
       "      <td>63</td>\n",
       "      <td>145</td>\n",
       "      <td>233</td>\n",
       "      <td>150</td>\n",
       "      <td>2.3</td>\n",
       "      <td>1</td>\n",
       "      <td>0</td>\n",
       "      <td>1</td>\n",
       "      <td>0</td>\n",
       "    </tr>\n",
       "    <tr>\n",
       "      <th>1</th>\n",
       "      <td>37</td>\n",
       "      <td>130</td>\n",
       "      <td>250</td>\n",
       "      <td>187</td>\n",
       "      <td>3.5</td>\n",
       "      <td>1</td>\n",
       "      <td>1</td>\n",
       "      <td>0</td>\n",
       "      <td>1</td>\n",
       "    </tr>\n",
       "    <tr>\n",
       "      <th>2</th>\n",
       "      <td>41</td>\n",
       "      <td>130</td>\n",
       "      <td>204</td>\n",
       "      <td>172</td>\n",
       "      <td>1.4</td>\n",
       "      <td>0</td>\n",
       "      <td>0</td>\n",
       "      <td>0</td>\n",
       "      <td>1</td>\n",
       "    </tr>\n",
       "    <tr>\n",
       "      <th>3</th>\n",
       "      <td>56</td>\n",
       "      <td>120</td>\n",
       "      <td>236</td>\n",
       "      <td>178</td>\n",
       "      <td>0.8</td>\n",
       "      <td>1</td>\n",
       "      <td>0</td>\n",
       "      <td>0</td>\n",
       "      <td>1</td>\n",
       "    </tr>\n",
       "    <tr>\n",
       "      <th>4</th>\n",
       "      <td>57</td>\n",
       "      <td>120</td>\n",
       "      <td>354</td>\n",
       "      <td>163</td>\n",
       "      <td>0.6</td>\n",
       "      <td>0</td>\n",
       "      <td>0</td>\n",
       "      <td>0</td>\n",
       "      <td>1</td>\n",
       "    </tr>\n",
       "    <tr>\n",
       "      <th>...</th>\n",
       "      <td>...</td>\n",
       "      <td>...</td>\n",
       "      <td>...</td>\n",
       "      <td>...</td>\n",
       "      <td>...</td>\n",
       "      <td>...</td>\n",
       "      <td>...</td>\n",
       "      <td>...</td>\n",
       "      <td>...</td>\n",
       "    </tr>\n",
       "    <tr>\n",
       "      <th>298</th>\n",
       "      <td>57</td>\n",
       "      <td>140</td>\n",
       "      <td>241</td>\n",
       "      <td>123</td>\n",
       "      <td>0.2</td>\n",
       "      <td>0</td>\n",
       "      <td>0</td>\n",
       "      <td>0</td>\n",
       "      <td>0</td>\n",
       "    </tr>\n",
       "    <tr>\n",
       "      <th>299</th>\n",
       "      <td>45</td>\n",
       "      <td>110</td>\n",
       "      <td>264</td>\n",
       "      <td>132</td>\n",
       "      <td>1.2</td>\n",
       "      <td>1</td>\n",
       "      <td>0</td>\n",
       "      <td>1</td>\n",
       "      <td>0</td>\n",
       "    </tr>\n",
       "    <tr>\n",
       "      <th>300</th>\n",
       "      <td>68</td>\n",
       "      <td>144</td>\n",
       "      <td>193</td>\n",
       "      <td>141</td>\n",
       "      <td>3.4</td>\n",
       "      <td>1</td>\n",
       "      <td>0</td>\n",
       "      <td>0</td>\n",
       "      <td>0</td>\n",
       "    </tr>\n",
       "    <tr>\n",
       "      <th>301</th>\n",
       "      <td>57</td>\n",
       "      <td>130</td>\n",
       "      <td>131</td>\n",
       "      <td>115</td>\n",
       "      <td>1.2</td>\n",
       "      <td>1</td>\n",
       "      <td>0</td>\n",
       "      <td>0</td>\n",
       "      <td>0</td>\n",
       "    </tr>\n",
       "    <tr>\n",
       "      <th>302</th>\n",
       "      <td>57</td>\n",
       "      <td>130</td>\n",
       "      <td>236</td>\n",
       "      <td>174</td>\n",
       "      <td>0.0</td>\n",
       "      <td>0</td>\n",
       "      <td>0</td>\n",
       "      <td>0</td>\n",
       "      <td>1</td>\n",
       "    </tr>\n",
       "  </tbody>\n",
       "</table>\n",
       "<p>302 rows × 9 columns</p>\n",
       "</div>"
      ],
      "text/plain": [
       "     edad  presion_arterial_reposo  colesterol  frecuencia_máxima  \\\n",
       "0      63                      145         233                150   \n",
       "1      37                      130         250                187   \n",
       "2      41                      130         204                172   \n",
       "3      56                      120         236                178   \n",
       "4      57                      120         354                163   \n",
       "..    ...                      ...         ...                ...   \n",
       "298    57                      140         241                123   \n",
       "299    45                      110         264                132   \n",
       "300    68                      144         193                141   \n",
       "301    57                      130         131                115   \n",
       "302    57                      130         236                174   \n",
       "\n",
       "     depresión_ST_por_ejercicio  sexo_1  dolor_pecho_2  dolor_pecho_3  talio_2  \n",
       "0                           2.3       1              0              1        0  \n",
       "1                           3.5       1              1              0        1  \n",
       "2                           1.4       0              0              0        1  \n",
       "3                           0.8       1              0              0        1  \n",
       "4                           0.6       0              0              0        1  \n",
       "..                          ...     ...            ...            ...      ...  \n",
       "298                         0.2       0              0              0        0  \n",
       "299                         1.2       1              0              1        0  \n",
       "300                         3.4       1              0              0        0  \n",
       "301                         1.2       1              0              0        0  \n",
       "302                         0.0       0              0              0        1  \n",
       "\n",
       "[302 rows x 9 columns]"
      ]
     },
     "execution_count": 84,
     "metadata": {},
     "output_type": "execute_result"
    }
   ],
   "source": [
    "x_dummy.drop(['número_vasos_1', 'número_vasos_2', 'talio_1', 'electro_reposo_1', 'número_vasos_3', 'número_vasos_4', 'electro_reposo_2', 'pendiente_ST_max_ejercicio_2', 'pendiente_ST_max_ejercicio_1', 'angina_por_ejercicio_1', 'azúcar_ayunas_1', 'dolor_pecho_1', 'talio_3'], axis = 1, inplace = True )\n",
    "x_dummy"
   ]
  },
  {
   "cell_type": "markdown",
   "id": "1cb423ac",
   "metadata": {},
   "source": [
    "Quedando reducidas su columnas a 9."
   ]
  },
  {
   "cell_type": "markdown",
   "id": "7e801121",
   "metadata": {},
   "source": [
    "Ahora volvemos a dividir en datos de entrenamiento y testeo:"
   ]
  },
  {
   "cell_type": "code",
   "execution_count": 85,
   "id": "99433ef0",
   "metadata": {},
   "outputs": [],
   "source": [
    "x_train, x_test, y_train, y_test = train_test_split(x_dummy, y, test_size = 0.2)"
   ]
  },
  {
   "cell_type": "markdown",
   "id": "d661682e",
   "metadata": {},
   "source": [
    "Seguidamente, se aplicará la función GridSearchCV(), de la librería SCIKIT-LEARN. Esta\n",
    "función sirve para, una vez definido el conjunto de hiperparámetros que constituyen el\n",
    "algoritmo, determinar los valores con los que se consigue una predicción más\n",
    "exacta:"
   ]
  },
  {
   "cell_type": "markdown",
   "id": "f21e6122",
   "metadata": {},
   "source": [
    "Definiremos los posibles hiperparámetros de la siguiente forma:"
   ]
  },
  {
   "cell_type": "code",
   "execution_count": 184,
   "id": "70468d84",
   "metadata": {},
   "outputs": [],
   "source": [
    "param_grid = {\n",
    "    'max_depth': [x for x in range(1,100,10)],\n",
    "    'criterion': ['gini', 'entropy'],\n",
    "    'splitter': ['best', 'random'],\n",
    "    'random_state': [x for x in range(1,100,10)],\n",
    "    'min_samples_split': [x for x in range(2,20,2)],\n",
    "    'min_samples_leaf': [1,2,3,4,5,6]\n",
    "}"
   ]
  },
  {
   "cell_type": "markdown",
   "id": "a8fb5b7c",
   "metadata": {},
   "source": [
    "Se instancia la función GridSearchCV(), especificando que se ejecuta sobre el modelo dtc anteriormente declarado:"
   ]
  },
  {
   "cell_type": "code",
   "execution_count": 185,
   "id": "cf0effc9",
   "metadata": {},
   "outputs": [],
   "source": [
    "dtc_CV = GridSearchCV(estimator = dtc, param_grid = param_grid, n_jobs = -1)"
   ]
  },
  {
   "cell_type": "markdown",
   "id": "6cfe3026",
   "metadata": {},
   "source": [
    "Y se vuelve a ajustar:"
   ]
  },
  {
   "cell_type": "code",
   "execution_count": 186,
   "id": "1473a7e7",
   "metadata": {},
   "outputs": [
    {
     "data": {
      "text/plain": [
       "GridSearchCV(estimator=DecisionTreeClassifier(), n_jobs=-1,\n",
       "             param_grid={'criterion': ['gini', 'entropy'],\n",
       "                         'max_depth': [1, 11, 21, 31, 41, 51, 61, 71, 81, 91],\n",
       "                         'min_samples_leaf': [1, 2, 3, 4, 5, 6],\n",
       "                         'min_samples_split': [2, 4, 6, 8, 10, 12, 14, 16, 18],\n",
       "                         'random_state': [1, 11, 21, 31, 41, 51, 61, 71, 81,\n",
       "                                          91],\n",
       "                         'splitter': ['best', 'random']})"
      ]
     },
     "execution_count": 186,
     "metadata": {},
     "output_type": "execute_result"
    }
   ],
   "source": [
    "dtc_CV.fit(x_train, y_train)"
   ]
  },
  {
   "cell_type": "markdown",
   "id": "8ab72384",
   "metadata": {},
   "source": [
    "Para determinar con qué hiperparámetros las predicciones son óptimas:"
   ]
  },
  {
   "cell_type": "code",
   "execution_count": 187,
   "id": "1f3db4f8",
   "metadata": {},
   "outputs": [
    {
     "data": {
      "text/plain": [
       "{'criterion': 'gini',\n",
       " 'max_depth': 11,\n",
       " 'min_samples_leaf': 4,\n",
       " 'min_samples_split': 12,\n",
       " 'random_state': 21,\n",
       " 'splitter': 'random'}"
      ]
     },
     "execution_count": 187,
     "metadata": {},
     "output_type": "execute_result"
    }
   ],
   "source": [
    "dtc_CV.best_params_"
   ]
  },
  {
   "cell_type": "markdown",
   "id": "4db81314",
   "metadata": {},
   "source": [
    "Se instancia nuevamente el modelo de Árboles de Decisión, teniendo en cuenta estos hiperparámetros óptimos. Sería posible recurrir a la misma variable ya definida, pero por claridad se ha optado por renombrarla otra vez a través de:"
   ]
  },
  {
   "cell_type": "code",
   "execution_count": 188,
   "id": "6ab12b8b",
   "metadata": {},
   "outputs": [],
   "source": [
    "dtc2 = DecisionTreeClassifier(criterion = 'gini', max_depth = 11, random_state = 21, \n",
    "                              splitter = 'random', min_samples_split = 12, min_samples_leaf = 4)"
   ]
  },
  {
   "cell_type": "markdown",
   "id": "2db4d6d5",
   "metadata": {},
   "source": [
    "Ajustamos el nuevo modelo y realizamos las predicciones:"
   ]
  },
  {
   "cell_type": "code",
   "execution_count": 189,
   "id": "c861b43b",
   "metadata": {},
   "outputs": [
    {
     "data": {
      "text/plain": [
       "DecisionTreeClassifier(max_depth=11, min_samples_leaf=4, min_samples_split=12,\n",
       "                       random_state=21, splitter='random')"
      ]
     },
     "execution_count": 189,
     "metadata": {},
     "output_type": "execute_result"
    }
   ],
   "source": [
    "dtc2.fit(x_train, y_train)"
   ]
  },
  {
   "cell_type": "code",
   "execution_count": 190,
   "id": "ec9cd291",
   "metadata": {},
   "outputs": [],
   "source": [
    "predicciones_dtc2 = dtc2.predict(x_test)"
   ]
  },
  {
   "cell_type": "code",
   "execution_count": 191,
   "id": "5a229d90",
   "metadata": {},
   "outputs": [
    {
     "data": {
      "text/plain": [
       "array([1, 1, 1, 0, 1, 0, 1, 0, 0, 1, 0, 1, 1, 1, 1, 1, 1, 1, 0, 1, 0, 1,\n",
       "       1, 1, 1, 1, 1, 1, 0, 1, 1, 1, 1, 1, 1, 1, 1, 0, 0, 0, 0, 0, 0, 1,\n",
       "       1, 1, 0, 1, 1, 1, 1, 1, 1, 1, 0, 1, 0, 1, 1, 1, 0], dtype=int64)"
      ]
     },
     "execution_count": 191,
     "metadata": {},
     "output_type": "execute_result"
    }
   ],
   "source": [
    "predicciones_dtc2"
   ]
  },
  {
   "cell_type": "markdown",
   "id": "d89a07a4",
   "metadata": {},
   "source": [
    "Y comprobamos el reporte de clasificación actualizado:"
   ]
  },
  {
   "cell_type": "code",
   "execution_count": 192,
   "id": "e9553294",
   "metadata": {},
   "outputs": [
    {
     "name": "stdout",
     "output_type": "stream",
     "text": [
      "              precision    recall  f1-score   support\n",
      "\n",
      "           0       0.78      0.56      0.65        25\n",
      "           1       0.74      0.89      0.81        36\n",
      "\n",
      "    accuracy                           0.75        61\n",
      "   macro avg       0.76      0.72      0.73        61\n",
      "weighted avg       0.76      0.75      0.74        61\n",
      "\n"
     ]
    }
   ],
   "source": [
    "print(classification_report(y_test, predicciones_dtc2))"
   ]
  },
  {
   "cell_type": "markdown",
   "id": "c9e95873",
   "metadata": {},
   "source": [
    "En este punto comprobamos que, a pesar de reducir el número de variables del dataframe y optimizar los hiperparámetros del modelo predictivo de árboles de decisión, no ha sido posible mejorar las métricas de precisión."
   ]
  },
  {
   "cell_type": "markdown",
   "id": "b8f215d2",
   "metadata": {},
   "source": [
    "Se deberá operar de forma análoga con el modelo predictivo de máquinas de soporte de vectores a fin de determinar si en ese caso es posible optimizar los resultados obtenidos."
   ]
  },
  {
   "cell_type": "code",
   "execution_count": null,
   "id": "0e7f9b9c",
   "metadata": {},
   "outputs": [],
   "source": []
  }
 ],
 "metadata": {
  "kernelspec": {
   "display_name": "Python 3",
   "language": "python",
   "name": "python3"
  },
  "language_info": {
   "codemirror_mode": {
    "name": "ipython",
    "version": 3
   },
   "file_extension": ".py",
   "mimetype": "text/x-python",
   "name": "python",
   "nbconvert_exporter": "python",
   "pygments_lexer": "ipython3",
   "version": "3.7.0"
  },
  "toc": {
   "base_numbering": 1,
   "nav_menu": {},
   "number_sections": true,
   "sideBar": true,
   "skip_h1_title": false,
   "title_cell": "Table of Contents",
   "title_sidebar": "Contents",
   "toc_cell": false,
   "toc_position": {},
   "toc_section_display": true,
   "toc_window_display": false
  }
 },
 "nbformat": 4,
 "nbformat_minor": 5
}
